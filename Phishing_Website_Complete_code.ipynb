{
  "nbformat": 4,
  "nbformat_minor": 0,
  "metadata": {
    "colab": {
      "name": "Phishing_Website Complete code.ipynb",
      "provenance": [],
      "collapsed_sections": []
    },
    "kernelspec": {
      "display_name": "Python 3",
      "name": "python3"
    }
  },
  "cells": [
    {
      "cell_type": "code",
      "metadata": {
        "id": "lY1aZPjZMv7F"
      },
      "source": [
        "import numpy as np\n",
        "import pandas as pd\n",
        "import seaborn as sns\n",
        "import matplotlib.pyplot as plt\n",
        "import random"
      ],
      "execution_count": null,
      "outputs": []
    },
    {
      "cell_type": "code",
      "metadata": {
        "id": "G7YgtQvUM5Rh"
      },
      "source": [
        "df = pd.read_csv('/content/dataset.csv')"
      ],
      "execution_count": null,
      "outputs": []
    },
    {
      "cell_type": "code",
      "metadata": {
        "colab": {
          "base_uri": "https://localhost:8080/",
          "height": 300
        },
        "id": "yCTFeE7AOMD1",
        "outputId": "a9fd2eee-8faa-44f8-bb2f-622d5834c46e"
      },
      "source": [
        "df.head()"
      ],
      "execution_count": null,
      "outputs": [
        {
          "output_type": "execute_result",
          "data": {
            "text/plain": [
              "   index  having_IPhaving_IP_Address  URLURL_Length  Shortining_Service  \\\n",
              "0      1                          -1              1                   1   \n",
              "1      2                           1              1                   1   \n",
              "2      3                           1              0                   1   \n",
              "3      4                           1              0                   1   \n",
              "4      5                           1              0                  -1   \n",
              "\n",
              "   having_At_Symbol  double_slash_redirecting  Prefix_Suffix  \\\n",
              "0               NaN                        -1             -1   \n",
              "1               1.0                         1             -1   \n",
              "2               1.0                         1             -1   \n",
              "3               1.0                         1             -1   \n",
              "4               NaN                         1             -1   \n",
              "\n",
              "   having_Sub_Domain  SSLfinal_State  Domain_registeration_length  ...  \\\n",
              "0                 -1              -1                           -1  ...   \n",
              "1                  0               1                           -1  ...   \n",
              "2                 -1              -1                           -1  ...   \n",
              "3                 -1              -1                            1  ...   \n",
              "4                  1               1                           -1  ...   \n",
              "\n",
              "   popUpWidnow  Iframe  age_of_domain  DNSRecord  web_traffic  Page_Rank  \\\n",
              "0            1       1             -1         -1           -1         -1   \n",
              "1            1       1             -1         -1            0         -1   \n",
              "2            1       1              1         -1            1         -1   \n",
              "3            1       1             -1         -1            1         -1   \n",
              "4           -1       1             -1         -1            0         -1   \n",
              "\n",
              "   Google_Index  Links_pointing_to_page  Statistical_report  Result  \n",
              "0             1                       1                  -1      -1  \n",
              "1             1                       1                   1      -1  \n",
              "2             1                       0                  -1      -1  \n",
              "3             1                      -1                   1      -1  \n",
              "4             1                       1                   1       1  \n",
              "\n",
              "[5 rows x 32 columns]"
            ],
            "text/html": [
              "\n",
              "  <div id=\"df-119f586f-59a8-4eb8-b19f-5261de313840\">\n",
              "    <div class=\"colab-df-container\">\n",
              "      <div>\n",
              "<style scoped>\n",
              "    .dataframe tbody tr th:only-of-type {\n",
              "        vertical-align: middle;\n",
              "    }\n",
              "\n",
              "    .dataframe tbody tr th {\n",
              "        vertical-align: top;\n",
              "    }\n",
              "\n",
              "    .dataframe thead th {\n",
              "        text-align: right;\n",
              "    }\n",
              "</style>\n",
              "<table border=\"1\" class=\"dataframe\">\n",
              "  <thead>\n",
              "    <tr style=\"text-align: right;\">\n",
              "      <th></th>\n",
              "      <th>index</th>\n",
              "      <th>having_IPhaving_IP_Address</th>\n",
              "      <th>URLURL_Length</th>\n",
              "      <th>Shortining_Service</th>\n",
              "      <th>having_At_Symbol</th>\n",
              "      <th>double_slash_redirecting</th>\n",
              "      <th>Prefix_Suffix</th>\n",
              "      <th>having_Sub_Domain</th>\n",
              "      <th>SSLfinal_State</th>\n",
              "      <th>Domain_registeration_length</th>\n",
              "      <th>...</th>\n",
              "      <th>popUpWidnow</th>\n",
              "      <th>Iframe</th>\n",
              "      <th>age_of_domain</th>\n",
              "      <th>DNSRecord</th>\n",
              "      <th>web_traffic</th>\n",
              "      <th>Page_Rank</th>\n",
              "      <th>Google_Index</th>\n",
              "      <th>Links_pointing_to_page</th>\n",
              "      <th>Statistical_report</th>\n",
              "      <th>Result</th>\n",
              "    </tr>\n",
              "  </thead>\n",
              "  <tbody>\n",
              "    <tr>\n",
              "      <th>0</th>\n",
              "      <td>1</td>\n",
              "      <td>-1</td>\n",
              "      <td>1</td>\n",
              "      <td>1</td>\n",
              "      <td>NaN</td>\n",
              "      <td>-1</td>\n",
              "      <td>-1</td>\n",
              "      <td>-1</td>\n",
              "      <td>-1</td>\n",
              "      <td>-1</td>\n",
              "      <td>...</td>\n",
              "      <td>1</td>\n",
              "      <td>1</td>\n",
              "      <td>-1</td>\n",
              "      <td>-1</td>\n",
              "      <td>-1</td>\n",
              "      <td>-1</td>\n",
              "      <td>1</td>\n",
              "      <td>1</td>\n",
              "      <td>-1</td>\n",
              "      <td>-1</td>\n",
              "    </tr>\n",
              "    <tr>\n",
              "      <th>1</th>\n",
              "      <td>2</td>\n",
              "      <td>1</td>\n",
              "      <td>1</td>\n",
              "      <td>1</td>\n",
              "      <td>1.0</td>\n",
              "      <td>1</td>\n",
              "      <td>-1</td>\n",
              "      <td>0</td>\n",
              "      <td>1</td>\n",
              "      <td>-1</td>\n",
              "      <td>...</td>\n",
              "      <td>1</td>\n",
              "      <td>1</td>\n",
              "      <td>-1</td>\n",
              "      <td>-1</td>\n",
              "      <td>0</td>\n",
              "      <td>-1</td>\n",
              "      <td>1</td>\n",
              "      <td>1</td>\n",
              "      <td>1</td>\n",
              "      <td>-1</td>\n",
              "    </tr>\n",
              "    <tr>\n",
              "      <th>2</th>\n",
              "      <td>3</td>\n",
              "      <td>1</td>\n",
              "      <td>0</td>\n",
              "      <td>1</td>\n",
              "      <td>1.0</td>\n",
              "      <td>1</td>\n",
              "      <td>-1</td>\n",
              "      <td>-1</td>\n",
              "      <td>-1</td>\n",
              "      <td>-1</td>\n",
              "      <td>...</td>\n",
              "      <td>1</td>\n",
              "      <td>1</td>\n",
              "      <td>1</td>\n",
              "      <td>-1</td>\n",
              "      <td>1</td>\n",
              "      <td>-1</td>\n",
              "      <td>1</td>\n",
              "      <td>0</td>\n",
              "      <td>-1</td>\n",
              "      <td>-1</td>\n",
              "    </tr>\n",
              "    <tr>\n",
              "      <th>3</th>\n",
              "      <td>4</td>\n",
              "      <td>1</td>\n",
              "      <td>0</td>\n",
              "      <td>1</td>\n",
              "      <td>1.0</td>\n",
              "      <td>1</td>\n",
              "      <td>-1</td>\n",
              "      <td>-1</td>\n",
              "      <td>-1</td>\n",
              "      <td>1</td>\n",
              "      <td>...</td>\n",
              "      <td>1</td>\n",
              "      <td>1</td>\n",
              "      <td>-1</td>\n",
              "      <td>-1</td>\n",
              "      <td>1</td>\n",
              "      <td>-1</td>\n",
              "      <td>1</td>\n",
              "      <td>-1</td>\n",
              "      <td>1</td>\n",
              "      <td>-1</td>\n",
              "    </tr>\n",
              "    <tr>\n",
              "      <th>4</th>\n",
              "      <td>5</td>\n",
              "      <td>1</td>\n",
              "      <td>0</td>\n",
              "      <td>-1</td>\n",
              "      <td>NaN</td>\n",
              "      <td>1</td>\n",
              "      <td>-1</td>\n",
              "      <td>1</td>\n",
              "      <td>1</td>\n",
              "      <td>-1</td>\n",
              "      <td>...</td>\n",
              "      <td>-1</td>\n",
              "      <td>1</td>\n",
              "      <td>-1</td>\n",
              "      <td>-1</td>\n",
              "      <td>0</td>\n",
              "      <td>-1</td>\n",
              "      <td>1</td>\n",
              "      <td>1</td>\n",
              "      <td>1</td>\n",
              "      <td>1</td>\n",
              "    </tr>\n",
              "  </tbody>\n",
              "</table>\n",
              "<p>5 rows × 32 columns</p>\n",
              "</div>\n",
              "      <button class=\"colab-df-convert\" onclick=\"convertToInteractive('df-119f586f-59a8-4eb8-b19f-5261de313840')\"\n",
              "              title=\"Convert this dataframe to an interactive table.\"\n",
              "              style=\"display:none;\">\n",
              "        \n",
              "  <svg xmlns=\"http://www.w3.org/2000/svg\" height=\"24px\"viewBox=\"0 0 24 24\"\n",
              "       width=\"24px\">\n",
              "    <path d=\"M0 0h24v24H0V0z\" fill=\"none\"/>\n",
              "    <path d=\"M18.56 5.44l.94 2.06.94-2.06 2.06-.94-2.06-.94-.94-2.06-.94 2.06-2.06.94zm-11 1L8.5 8.5l.94-2.06 2.06-.94-2.06-.94L8.5 2.5l-.94 2.06-2.06.94zm10 10l.94 2.06.94-2.06 2.06-.94-2.06-.94-.94-2.06-.94 2.06-2.06.94z\"/><path d=\"M17.41 7.96l-1.37-1.37c-.4-.4-.92-.59-1.43-.59-.52 0-1.04.2-1.43.59L10.3 9.45l-7.72 7.72c-.78.78-.78 2.05 0 2.83L4 21.41c.39.39.9.59 1.41.59.51 0 1.02-.2 1.41-.59l7.78-7.78 2.81-2.81c.8-.78.8-2.07 0-2.86zM5.41 20L4 18.59l7.72-7.72 1.47 1.35L5.41 20z\"/>\n",
              "  </svg>\n",
              "      </button>\n",
              "      \n",
              "  <style>\n",
              "    .colab-df-container {\n",
              "      display:flex;\n",
              "      flex-wrap:wrap;\n",
              "      gap: 12px;\n",
              "    }\n",
              "\n",
              "    .colab-df-convert {\n",
              "      background-color: #E8F0FE;\n",
              "      border: none;\n",
              "      border-radius: 50%;\n",
              "      cursor: pointer;\n",
              "      display: none;\n",
              "      fill: #1967D2;\n",
              "      height: 32px;\n",
              "      padding: 0 0 0 0;\n",
              "      width: 32px;\n",
              "    }\n",
              "\n",
              "    .colab-df-convert:hover {\n",
              "      background-color: #E2EBFA;\n",
              "      box-shadow: 0px 1px 2px rgba(60, 64, 67, 0.3), 0px 1px 3px 1px rgba(60, 64, 67, 0.15);\n",
              "      fill: #174EA6;\n",
              "    }\n",
              "\n",
              "    [theme=dark] .colab-df-convert {\n",
              "      background-color: #3B4455;\n",
              "      fill: #D2E3FC;\n",
              "    }\n",
              "\n",
              "    [theme=dark] .colab-df-convert:hover {\n",
              "      background-color: #434B5C;\n",
              "      box-shadow: 0px 1px 3px 1px rgba(0, 0, 0, 0.15);\n",
              "      filter: drop-shadow(0px 1px 2px rgba(0, 0, 0, 0.3));\n",
              "      fill: #FFFFFF;\n",
              "    }\n",
              "  </style>\n",
              "\n",
              "      <script>\n",
              "        const buttonEl =\n",
              "          document.querySelector('#df-119f586f-59a8-4eb8-b19f-5261de313840 button.colab-df-convert');\n",
              "        buttonEl.style.display =\n",
              "          google.colab.kernel.accessAllowed ? 'block' : 'none';\n",
              "\n",
              "        async function convertToInteractive(key) {\n",
              "          const element = document.querySelector('#df-119f586f-59a8-4eb8-b19f-5261de313840');\n",
              "          const dataTable =\n",
              "            await google.colab.kernel.invokeFunction('convertToInteractive',\n",
              "                                                     [key], {});\n",
              "          if (!dataTable) return;\n",
              "\n",
              "          const docLinkHtml = 'Like what you see? Visit the ' +\n",
              "            '<a target=\"_blank\" href=https://colab.research.google.com/notebooks/data_table.ipynb>data table notebook</a>'\n",
              "            + ' to learn more about interactive tables.';\n",
              "          element.innerHTML = '';\n",
              "          dataTable['output_type'] = 'display_data';\n",
              "          await google.colab.output.renderOutput(dataTable, element);\n",
              "          const docLink = document.createElement('div');\n",
              "          docLink.innerHTML = docLinkHtml;\n",
              "          element.appendChild(docLink);\n",
              "        }\n",
              "      </script>\n",
              "    </div>\n",
              "  </div>\n",
              "  "
            ]
          },
          "metadata": {},
          "execution_count": 3
        }
      ]
    },
    {
      "cell_type": "code",
      "metadata": {
        "colab": {
          "base_uri": "https://localhost:8080/",
          "height": 351
        },
        "id": "Gq1iPzRSOtx8",
        "outputId": "0a312f70-1f56-4500-a1e2-78f05f4e6b51"
      },
      "source": [
        "sns.heatmap(df[0:120].isnull(), cmap= 'viridis')\n",
        "plt.savefig('heatmap.png')"
      ],
      "execution_count": null,
      "outputs": [
        {
          "output_type": "display_data",
          "data": {
            "text/plain": [
              "<Figure size 432x288 with 2 Axes>"
            ],
            "image/png": "[encoded data removed]"
          },
          "metadata": {
            "needs_background": "light"
          }
        }
      ]
    },
    {
      "cell_type": "code",
      "metadata": {
        "colab": {
          "base_uri": "https://localhost:8080/",
          "height": 394
        },
        "id": "T5Z-lxbQlAzQ",
        "outputId": "552e5382-8ba2-486e-80e3-c653110d11d6"
      },
      "source": [
        "df.describe()"
      ],
      "execution_count": null,
      "outputs": [
        {
          "output_type": "execute_result",
          "data": {
            "text/plain": [
              "              index  having_IPhaving_IP_Address  URLURL_Length  \\\n",
              "count  11055.000000                11055.000000   11055.000000   \n",
              "mean    5528.000000                    0.313795      -0.633198   \n",
              "std     3191.447947                    0.949534       0.766095   \n",
              "min        1.000000                   -1.000000      -1.000000   \n",
              "25%     2764.500000                   -1.000000      -1.000000   \n",
              "50%     5528.000000                    1.000000      -1.000000   \n",
              "75%     8291.500000                    1.000000      -1.000000   \n",
              "max    11055.000000                    1.000000       1.000000   \n",
              "\n",
              "       Shortining_Service  having_At_Symbol  double_slash_redirecting  \\\n",
              "count        11055.000000      10959.000000              11055.000000   \n",
              "mean             0.738761          0.703440                  0.741474   \n",
              "std              0.673998          0.710787                  0.671011   \n",
              "min             -1.000000         -1.000000                 -1.000000   \n",
              "25%              1.000000          1.000000                  1.000000   \n",
              "50%              1.000000          1.000000                  1.000000   \n",
              "75%              1.000000          1.000000                  1.000000   \n",
              "max              1.000000          1.000000                  1.000000   \n",
              "\n",
              "       Prefix_Suffix  having_Sub_Domain  SSLfinal_State  \\\n",
              "count   11055.000000       11055.000000    11055.000000   \n",
              "mean       -0.734962           0.063953        0.250927   \n",
              "std         0.678139           0.817518        0.911892   \n",
              "min        -1.000000          -1.000000       -1.000000   \n",
              "25%        -1.000000          -1.000000       -1.000000   \n",
              "50%        -1.000000           0.000000        1.000000   \n",
              "75%        -1.000000           1.000000        1.000000   \n",
              "max         1.000000           1.000000        1.000000   \n",
              "\n",
              "       Domain_registeration_length  ...   popUpWidnow        Iframe  \\\n",
              "count                 11055.000000  ...  11055.000000  11055.000000   \n",
              "mean                     -0.336771  ...      0.613388      0.816915   \n",
              "std                       0.941629  ...      0.789818      0.576784   \n",
              "min                      -1.000000  ...     -1.000000     -1.000000   \n",
              "25%                      -1.000000  ...      1.000000      1.000000   \n",
              "50%                      -1.000000  ...      1.000000      1.000000   \n",
              "75%                       1.000000  ...      1.000000      1.000000   \n",
              "max                       1.000000  ...      1.000000      1.000000   \n",
              "\n",
              "       age_of_domain     DNSRecord   web_traffic     Page_Rank  Google_Index  \\\n",
              "count   11055.000000  11055.000000  11055.000000  11055.000000  11055.000000   \n",
              "mean        0.061239      0.377114      0.287291     -0.483673      0.721574   \n",
              "std         0.998168      0.926209      0.827733      0.875289      0.692369   \n",
              "min        -1.000000     -1.000000     -1.000000     -1.000000     -1.000000   \n",
              "25%        -1.000000     -1.000000      0.000000     -1.000000      1.000000   \n",
              "50%         1.000000      1.000000      1.000000     -1.000000      1.000000   \n",
              "75%         1.000000      1.000000      1.000000      1.000000      1.000000   \n",
              "max         1.000000      1.000000      1.000000      1.000000      1.000000   \n",
              "\n",
              "       Links_pointing_to_page  Statistical_report        Result  \n",
              "count            11055.000000        11055.000000  11055.000000  \n",
              "mean                 0.344007            0.719584      0.113885  \n",
              "std                  0.569944            0.694437      0.993539  \n",
              "min                 -1.000000           -1.000000     -1.000000  \n",
              "25%                  0.000000            1.000000     -1.000000  \n",
              "50%                  0.000000            1.000000      1.000000  \n",
              "75%                  1.000000            1.000000      1.000000  \n",
              "max                  1.000000            1.000000      1.000000  \n",
              "\n",
              "[8 rows x 32 columns]"
            ],
            "text/html": [
              "\n",
              "  <div id=\"df-c54e0120-2019-4531-bd72-94b60470a371\">\n",
              "    <div class=\"colab-df-container\">\n",
              "      <div>\n",
              "<style scoped>\n",
              "    .dataframe tbody tr th:only-of-type {\n",
              "        vertical-align: middle;\n",
              "    }\n",
              "\n",
              "    .dataframe tbody tr th {\n",
              "        vertical-align: top;\n",
              "    }\n",
              "\n",
              "    .dataframe thead th {\n",
              "        text-align: right;\n",
              "    }\n",
              "</style>\n",
              "<table border=\"1\" class=\"dataframe\">\n",
              "  <thead>\n",
              "    <tr style=\"text-align: right;\">\n",
              "      <th></th>\n",
              "      <th>index</th>\n",
              "      <th>having_IPhaving_IP_Address</th>\n",
              "      <th>URLURL_Length</th>\n",
              "      <th>Shortining_Service</th>\n",
              "      <th>having_At_Symbol</th>\n",
              "      <th>double_slash_redirecting</th>\n",
              "      <th>Prefix_Suffix</th>\n",
              "      <th>having_Sub_Domain</th>\n",
              "      <th>SSLfinal_State</th>\n",
              "      <th>Domain_registeration_length</th>\n",
              "      <th>...</th>\n",
              "      <th>popUpWidnow</th>\n",
              "      <th>Iframe</th>\n",
              "      <th>age_of_domain</th>\n",
              "      <th>DNSRecord</th>\n",
              "      <th>web_traffic</th>\n",
              "      <th>Page_Rank</th>\n",
              "      <th>Google_Index</th>\n",
              "      <th>Links_pointing_to_page</th>\n",
              "      <th>Statistical_report</th>\n",
              "      <th>Result</th>\n",
              "    </tr>\n",
              "  </thead>\n",
              "  <tbody>\n",
              "    <tr>\n",
              "      <th>count</th>\n",
              "      <td>11055.000000</td>\n",
              "      <td>11055.000000</td>\n",
              "      <td>11055.000000</td>\n",
              "      <td>11055.000000</td>\n",
              "      <td>10959.000000</td>\n",
              "      <td>11055.000000</td>\n",
              "      <td>11055.000000</td>\n",
              "      <td>11055.000000</td>\n",
              "      <td>11055.000000</td>\n",
              "      <td>11055.000000</td>\n",
              "      <td>...</td>\n",
              "      <td>11055.000000</td>\n",
              "      <td>11055.000000</td>\n",
              "      <td>11055.000000</td>\n",
              "      <td>11055.000000</td>\n",
              "      <td>11055.000000</td>\n",
              "      <td>11055.000000</td>\n",
              "      <td>11055.000000</td>\n",
              "      <td>11055.000000</td>\n",
              "      <td>11055.000000</td>\n",
              "      <td>11055.000000</td>\n",
              "    </tr>\n",
              "    <tr>\n",
              "      <th>mean</th>\n",
              "      <td>5528.000000</td>\n",
              "      <td>0.313795</td>\n",
              "      <td>-0.633198</td>\n",
              "      <td>0.738761</td>\n",
              "      <td>0.703440</td>\n",
              "      <td>0.741474</td>\n",
              "      <td>-0.734962</td>\n",
              "      <td>0.063953</td>\n",
              "      <td>0.250927</td>\n",
              "      <td>-0.336771</td>\n",
              "      <td>...</td>\n",
              "      <td>0.613388</td>\n",
              "      <td>0.816915</td>\n",
              "      <td>0.061239</td>\n",
              "      <td>0.377114</td>\n",
              "      <td>0.287291</td>\n",
              "      <td>-0.483673</td>\n",
              "      <td>0.721574</td>\n",
              "      <td>0.344007</td>\n",
              "      <td>0.719584</td>\n",
              "      <td>0.113885</td>\n",
              "    </tr>\n",
              "    <tr>\n",
              "      <th>std</th>\n",
              "      <td>3191.447947</td>\n",
              "      <td>0.949534</td>\n",
              "      <td>0.766095</td>\n",
              "      <td>0.673998</td>\n",
              "      <td>0.710787</td>\n",
              "      <td>0.671011</td>\n",
              "      <td>0.678139</td>\n",
              "      <td>0.817518</td>\n",
              "      <td>0.911892</td>\n",
              "      <td>0.941629</td>\n",
              "      <td>...</td>\n",
              "      <td>0.789818</td>\n",
              "      <td>0.576784</td>\n",
              "      <td>0.998168</td>\n",
              "      <td>0.926209</td>\n",
              "      <td>0.827733</td>\n",
              "      <td>0.875289</td>\n",
              "      <td>0.692369</td>\n",
              "      <td>0.569944</td>\n",
              "      <td>0.694437</td>\n",
              "      <td>0.993539</td>\n",
              "    </tr>\n",
              "    <tr>\n",
              "      <th>min</th>\n",
              "      <td>1.000000</td>\n",
              "      <td>-1.000000</td>\n",
              "      <td>-1.000000</td>\n",
              "      <td>-1.000000</td>\n",
              "      <td>-1.000000</td>\n",
              "      <td>-1.000000</td>\n",
              "      <td>-1.000000</td>\n",
              "      <td>-1.000000</td>\n",
              "      <td>-1.000000</td>\n",
              "      <td>-1.000000</td>\n",
              "      <td>...</td>\n",
              "      <td>-1.000000</td>\n",
              "      <td>-1.000000</td>\n",
              "      <td>-1.000000</td>\n",
              "      <td>-1.000000</td>\n",
              "      <td>-1.000000</td>\n",
              "      <td>-1.000000</td>\n",
              "      <td>-1.000000</td>\n",
              "      <td>-1.000000</td>\n",
              "      <td>-1.000000</td>\n",
              "      <td>-1.000000</td>\n",
              "    </tr>\n",
              "    <tr>\n",
              "      <th>25%</th>\n",
              "      <td>2764.500000</td>\n",
              "      <td>-1.000000</td>\n",
              "      <td>-1.000000</td>\n",
              "      <td>1.000000</td>\n",
              "      <td>1.000000</td>\n",
              "      <td>1.000000</td>\n",
              "      <td>-1.000000</td>\n",
              "      <td>-1.000000</td>\n",
              "      <td>-1.000000</td>\n",
              "      <td>-1.000000</td>\n",
              "      <td>...</td>\n",
              "      <td>1.000000</td>\n",
              "      <td>1.000000</td>\n",
              "      <td>-1.000000</td>\n",
              "      <td>-1.000000</td>\n",
              "      <td>0.000000</td>\n",
              "      <td>-1.000000</td>\n",
              "      <td>1.000000</td>\n",
              "      <td>0.000000</td>\n",
              "      <td>1.000000</td>\n",
              "      <td>-1.000000</td>\n",
              "    </tr>\n",
              "    <tr>\n",
              "      <th>50%</th>\n",
              "      <td>5528.000000</td>\n",
              "      <td>1.000000</td>\n",
              "      <td>-1.000000</td>\n",
              "      <td>1.000000</td>\n",
              "      <td>1.000000</td>\n",
              "      <td>1.000000</td>\n",
              "      <td>-1.000000</td>\n",
              "      <td>0.000000</td>\n",
              "      <td>1.000000</td>\n",
              "      <td>-1.000000</td>\n",
              "      <td>...</td>\n",
              "      <td>1.000000</td>\n",
              "      <td>1.000000</td>\n",
              "      <td>1.000000</td>\n",
              "      <td>1.000000</td>\n",
              "      <td>1.000000</td>\n",
              "      <td>-1.000000</td>\n",
              "      <td>1.000000</td>\n",
              "      <td>0.000000</td>\n",
              "      <td>1.000000</td>\n",
              "      <td>1.000000</td>\n",
              "    </tr>\n",
              "    <tr>\n",
              "      <th>75%</th>\n",
              "      <td>8291.500000</td>\n",
              "      <td>1.000000</td>\n",
              "      <td>-1.000000</td>\n",
              "      <td>1.000000</td>\n",
              "      <td>1.000000</td>\n",
              "      <td>1.000000</td>\n",
              "      <td>-1.000000</td>\n",
              "      <td>1.000000</td>\n",
              "      <td>1.000000</td>\n",
              "      <td>1.000000</td>\n",
              "      <td>...</td>\n",
              "      <td>1.000000</td>\n",
              "      <td>1.000000</td>\n",
              "      <td>1.000000</td>\n",
              "      <td>1.000000</td>\n",
              "      <td>1.000000</td>\n",
              "      <td>1.000000</td>\n",
              "      <td>1.000000</td>\n",
              "      <td>1.000000</td>\n",
              "      <td>1.000000</td>\n",
              "      <td>1.000000</td>\n",
              "    </tr>\n",
              "    <tr>\n",
              "      <th>max</th>\n",
              "      <td>11055.000000</td>\n",
              "      <td>1.000000</td>\n",
              "      <td>1.000000</td>\n",
              "      <td>1.000000</td>\n",
              "      <td>1.000000</td>\n",
              "      <td>1.000000</td>\n",
              "      <td>1.000000</td>\n",
              "      <td>1.000000</td>\n",
              "      <td>1.000000</td>\n",
              "      <td>1.000000</td>\n",
              "      <td>...</td>\n",
              "      <td>1.000000</td>\n",
              "      <td>1.000000</td>\n",
              "      <td>1.000000</td>\n",
              "      <td>1.000000</td>\n",
              "      <td>1.000000</td>\n",
              "      <td>1.000000</td>\n",
              "      <td>1.000000</td>\n",
              "      <td>1.000000</td>\n",
              "      <td>1.000000</td>\n",
              "      <td>1.000000</td>\n",
              "    </tr>\n",
              "  </tbody>\n",
              "</table>\n",
              "<p>8 rows × 32 columns</p>\n",
              "</div>\n",
              "      <button class=\"colab-df-convert\" onclick=\"convertToInteractive('df-c54e0120-2019-4531-bd72-94b60470a371')\"\n",
              "              title=\"Convert this dataframe to an interactive table.\"\n",
              "              style=\"display:none;\">\n",
              "        \n",
              "  <svg xmlns=\"http://www.w3.org/2000/svg\" height=\"24px\"viewBox=\"0 0 24 24\"\n",
              "       width=\"24px\">\n",
              "    <path d=\"M0 0h24v24H0V0z\" fill=\"none\"/>\n",
              "    <path d=\"M18.56 5.44l.94 2.06.94-2.06 2.06-.94-2.06-.94-.94-2.06-.94 2.06-2.06.94zm-11 1L8.5 8.5l.94-2.06 2.06-.94-2.06-.94L8.5 2.5l-.94 2.06-2.06.94zm10 10l.94 2.06.94-2.06 2.06-.94-2.06-.94-.94-2.06-.94 2.06-2.06.94z\"/><path d=\"M17.41 7.96l-1.37-1.37c-.4-.4-.92-.59-1.43-.59-.52 0-1.04.2-1.43.59L10.3 9.45l-7.72 7.72c-.78.78-.78 2.05 0 2.83L4 21.41c.39.39.9.59 1.41.59.51 0 1.02-.2 1.41-.59l7.78-7.78 2.81-2.81c.8-.78.8-2.07 0-2.86zM5.41 20L4 18.59l7.72-7.72 1.47 1.35L5.41 20z\"/>\n",
              "  </svg>\n",
              "      </button>\n",
              "      \n",
              "  <style>\n",
              "    .colab-df-container {\n",
              "      display:flex;\n",
              "      flex-wrap:wrap;\n",
              "      gap: 12px;\n",
              "    }\n",
              "\n",
              "    .colab-df-convert {\n",
              "      background-color: #E8F0FE;\n",
              "      border: none;\n",
              "      border-radius: 50%;\n",
              "      cursor: pointer;\n",
              "      display: none;\n",
              "      fill: #1967D2;\n",
              "      height: 32px;\n",
              "      padding: 0 0 0 0;\n",
              "      width: 32px;\n",
              "    }\n",
              "\n",
              "    .colab-df-convert:hover {\n",
              "      background-color: #E2EBFA;\n",
              "      box-shadow: 0px 1px 2px rgba(60, 64, 67, 0.3), 0px 1px 3px 1px rgba(60, 64, 67, 0.15);\n",
              "      fill: #174EA6;\n",
              "    }\n",
              "\n",
              "    [theme=dark] .colab-df-convert {\n",
              "      background-color: #3B4455;\n",
              "      fill: #D2E3FC;\n",
              "    }\n",
              "\n",
              "    [theme=dark] .colab-df-convert:hover {\n",
              "      background-color: #434B5C;\n",
              "      box-shadow: 0px 1px 3px 1px rgba(0, 0, 0, 0.15);\n",
              "      filter: drop-shadow(0px 1px 2px rgba(0, 0, 0, 0.3));\n",
              "      fill: #FFFFFF;\n",
              "    }\n",
              "  </style>\n",
              "\n",
              "      <script>\n",
              "        const buttonEl =\n",
              "          document.querySelector('#df-c54e0120-2019-4531-bd72-94b60470a371 button.colab-df-convert');\n",
              "        buttonEl.style.display =\n",
              "          google.colab.kernel.accessAllowed ? 'block' : 'none';\n",
              "\n",
              "        async function convertToInteractive(key) {\n",
              "          const element = document.querySelector('#df-c54e0120-2019-4531-bd72-94b60470a371');\n",
              "          const dataTable =\n",
              "            await google.colab.kernel.invokeFunction('convertToInteractive',\n",
              "                                                     [key], {});\n",
              "          if (!dataTable) return;\n",
              "\n",
              "          const docLinkHtml = 'Like what you see? Visit the ' +\n",
              "            '<a target=\"_blank\" href=https://colab.research.google.com/notebooks/data_table.ipynb>data table notebook</a>'\n",
              "            + ' to learn more about interactive tables.';\n",
              "          element.innerHTML = '';\n",
              "          dataTable['output_type'] = 'display_data';\n",
              "          await google.colab.output.renderOutput(dataTable, element);\n",
              "          const docLink = document.createElement('div');\n",
              "          docLink.innerHTML = docLinkHtml;\n",
              "          element.appendChild(docLink);\n",
              "        }\n",
              "      </script>\n",
              "    </div>\n",
              "  </div>\n",
              "  "
            ]
          },
          "metadata": {},
          "execution_count": 5
        }
      ]
    },
    {
      "cell_type": "code",
      "metadata": {
        "colab": {
          "base_uri": "https://localhost:8080/"
        },
        "id": "6CyjgQfZqKiM",
        "outputId": "b8c9404b-e269-4a8d-f39e-88fd5371a963"
      },
      "source": [
        "print(df.corr()['Result'].sort_values())"
      ],
      "execution_count": null,
      "outputs": [
        {
          "output_type": "stream",
          "name": "stdout",
          "text": [
            "Domain_registeration_length   -0.225789\n",
            "Shortining_Service            -0.067966\n",
            "Abnormal_URL                  -0.060488\n",
            "HTTPS_token                   -0.039854\n",
            "double_slash_redirecting      -0.038608\n",
            "Redirect                      -0.020113\n",
            "Iframe                        -0.003394\n",
            "Favicon                       -0.000280\n",
            "popUpWidnow                    0.000086\n",
            "index                          0.000978\n",
            "RightClick                     0.012653\n",
            "Submitting_to_email            0.018249\n",
            "Links_pointing_to_page         0.032574\n",
            "port                           0.036419\n",
            "on_mouseover                   0.041838\n",
            "having_At_Symbol               0.051330\n",
            "URLURL_Length                  0.057430\n",
            "DNSRecord                      0.075718\n",
            "Statistical_report             0.079857\n",
            "having_IPhaving_IP_Address     0.094160\n",
            "Page_Rank                      0.104645\n",
            "age_of_domain                  0.121496\n",
            "Google_Index                   0.128950\n",
            "SFH                            0.221419\n",
            "Links_in_tags                  0.248229\n",
            "Request_URL                    0.253372\n",
            "having_Sub_Domain              0.298323\n",
            "web_traffic                    0.346103\n",
            "Prefix_Suffix                  0.348606\n",
            "URL_of_Anchor                  0.692935\n",
            "SSLfinal_State                 0.714741\n",
            "Result                         1.000000\n",
            "Name: Result, dtype: float64\n"
          ]
        }
      ]
    },
    {
      "cell_type": "code",
      "metadata": {
        "colab": {
          "base_uri": "https://localhost:8080/"
        },
        "id": "nKLvvVTMUd_5",
        "outputId": "46100325-fc0b-4495-b7ad-804d616035ee"
      },
      "source": [
        "# Remove features having correlation coeff. between +/- 0.03\n",
        "df.drop(['Favicon','Iframe','Redirect',\n",
        "                'popUpWidnow','RightClick','Submitting_to_email'],axis=1,inplace=True)\n",
        "print(len(df.columns))"
      ],
      "execution_count": null,
      "outputs": [
        {
          "output_type": "stream",
          "name": "stdout",
          "text": [
            "26\n"
          ]
        }
      ]
    },
    {
      "cell_type": "code",
      "metadata": {
        "colab": {
          "base_uri": "https://localhost:8080/",
          "height": 351
        },
        "id": "ctzlIFtKUmmY",
        "outputId": "e0d7d1d4-6aa9-45fb-e88f-bd4a4dddf9fc"
      },
      "source": [
        "sns.heatmap(df.corr())\n",
        "plt.savefig('corr.png')"
      ],
      "execution_count": null,
      "outputs": [
        {
          "output_type": "display_data",
          "data": {
            "text/plain": [
              "<Figure size 432x288 with 2 Axes>"
            ],
            "image/png": "[encoded data removed]"
          },
          "metadata": {
            "needs_background": "light"
          }
        }
      ]
    },
    {
      "cell_type": "code",
      "metadata": {
        "colab": {
          "base_uri": "https://localhost:8080/",
          "height": 387
        },
        "id": "764r4cwUW0bN",
        "outputId": "a97c6bf0-51d3-4363-e88f-8b5c85307da0"
      },
      "source": [
        "l = [1,-1]\n",
        "length = len(df)\n",
        "# df.head()\n",
        "for i in range(length):\n",
        "  if(df['having_At_Symbol'].isnull().sum()):\n",
        "    rand = random.randint(0,1)\n",
        "    df['having_At_Symbol'][i] = l[rand]\n",
        "  \n",
        "df.head()"
      ],
      "execution_count": null,
      "outputs": [
        {
          "output_type": "stream",
          "name": "stderr",
          "text": [
            "/usr/local/lib/python3.7/dist-packages/ipykernel_launcher.py:7: SettingWithCopyWarning: \n",
            "A value is trying to be set on a copy of a slice from a DataFrame\n",
            "\n",
            "See the caveats in the documentation: https://pandas.pydata.org/pandas-docs/stable/user_guide/indexing.html#returning-a-view-versus-a-copy\n",
            "  import sys\n"
          ]
        },
        {
          "output_type": "execute_result",
          "data": {
            "text/plain": [
              "   index  having_IPhaving_IP_Address  URLURL_Length  Shortining_Service  \\\n",
              "0      1                          -1              1                   1   \n",
              "1      2                           1              1                   1   \n",
              "2      3                           1              0                   1   \n",
              "3      4                           1              0                   1   \n",
              "4      5                           1              0                  -1   \n",
              "\n",
              "   having_At_Symbol  double_slash_redirecting  Prefix_Suffix  \\\n",
              "0               1.0                        -1             -1   \n",
              "1              -1.0                         1             -1   \n",
              "2               1.0                         1             -1   \n",
              "3              -1.0                         1             -1   \n",
              "4              -1.0                         1             -1   \n",
              "\n",
              "   having_Sub_Domain  SSLfinal_State  Domain_registeration_length  ...  \\\n",
              "0                 -1              -1                           -1  ...   \n",
              "1                  0               1                           -1  ...   \n",
              "2                 -1              -1                           -1  ...   \n",
              "3                 -1              -1                            1  ...   \n",
              "4                  1               1                           -1  ...   \n",
              "\n",
              "   Abnormal_URL  on_mouseover  age_of_domain  DNSRecord  web_traffic  \\\n",
              "0            -1             1             -1         -1           -1   \n",
              "1             1             1             -1         -1            0   \n",
              "2            -1             1              1         -1            1   \n",
              "3             1             1             -1         -1            1   \n",
              "4             1            -1             -1         -1            0   \n",
              "\n",
              "   Page_Rank  Google_Index  Links_pointing_to_page  Statistical_report  Result  \n",
              "0         -1             1                       1                  -1      -1  \n",
              "1         -1             1                       1                   1      -1  \n",
              "2         -1             1                       0                  -1      -1  \n",
              "3         -1             1                      -1                   1      -1  \n",
              "4         -1             1                       1                   1       1  \n",
              "\n",
              "[5 rows x 26 columns]"
            ],
            "text/html": [
              "\n",
              "  <div id=\"df-552a3c3d-7c14-4a19-9809-248e6c752253\">\n",
              "    <div class=\"colab-df-container\">\n",
              "      <div>\n",
              "<style scoped>\n",
              "    .dataframe tbody tr th:only-of-type {\n",
              "        vertical-align: middle;\n",
              "    }\n",
              "\n",
              "    .dataframe tbody tr th {\n",
              "        vertical-align: top;\n",
              "    }\n",
              "\n",
              "    .dataframe thead th {\n",
              "        text-align: right;\n",
              "    }\n",
              "</style>\n",
              "<table border=\"1\" class=\"dataframe\">\n",
              "  <thead>\n",
              "    <tr style=\"text-align: right;\">\n",
              "      <th></th>\n",
              "      <th>index</th>\n",
              "      <th>having_IPhaving_IP_Address</th>\n",
              "      <th>URLURL_Length</th>\n",
              "      <th>Shortining_Service</th>\n",
              "      <th>having_At_Symbol</th>\n",
              "      <th>double_slash_redirecting</th>\n",
              "      <th>Prefix_Suffix</th>\n",
              "      <th>having_Sub_Domain</th>\n",
              "      <th>SSLfinal_State</th>\n",
              "      <th>Domain_registeration_length</th>\n",
              "      <th>...</th>\n",
              "      <th>Abnormal_URL</th>\n",
              "      <th>on_mouseover</th>\n",
              "      <th>age_of_domain</th>\n",
              "      <th>DNSRecord</th>\n",
              "      <th>web_traffic</th>\n",
              "      <th>Page_Rank</th>\n",
              "      <th>Google_Index</th>\n",
              "      <th>Links_pointing_to_page</th>\n",
              "      <th>Statistical_report</th>\n",
              "      <th>Result</th>\n",
              "    </tr>\n",
              "  </thead>\n",
              "  <tbody>\n",
              "    <tr>\n",
              "      <th>0</th>\n",
              "      <td>1</td>\n",
              "      <td>-1</td>\n",
              "      <td>1</td>\n",
              "      <td>1</td>\n",
              "      <td>1.0</td>\n",
              "      <td>-1</td>\n",
              "      <td>-1</td>\n",
              "      <td>-1</td>\n",
              "      <td>-1</td>\n",
              "      <td>-1</td>\n",
              "      <td>...</td>\n",
              "      <td>-1</td>\n",
              "      <td>1</td>\n",
              "      <td>-1</td>\n",
              "      <td>-1</td>\n",
              "      <td>-1</td>\n",
              "      <td>-1</td>\n",
              "      <td>1</td>\n",
              "      <td>1</td>\n",
              "      <td>-1</td>\n",
              "      <td>-1</td>\n",
              "    </tr>\n",
              "    <tr>\n",
              "      <th>1</th>\n",
              "      <td>2</td>\n",
              "      <td>1</td>\n",
              "      <td>1</td>\n",
              "      <td>1</td>\n",
              "      <td>-1.0</td>\n",
              "      <td>1</td>\n",
              "      <td>-1</td>\n",
              "      <td>0</td>\n",
              "      <td>1</td>\n",
              "      <td>-1</td>\n",
              "      <td>...</td>\n",
              "      <td>1</td>\n",
              "      <td>1</td>\n",
              "      <td>-1</td>\n",
              "      <td>-1</td>\n",
              "      <td>0</td>\n",
              "      <td>-1</td>\n",
              "      <td>1</td>\n",
              "      <td>1</td>\n",
              "      <td>1</td>\n",
              "      <td>-1</td>\n",
              "    </tr>\n",
              "    <tr>\n",
              "      <th>2</th>\n",
              "      <td>3</td>\n",
              "      <td>1</td>\n",
              "      <td>0</td>\n",
              "      <td>1</td>\n",
              "      <td>1.0</td>\n",
              "      <td>1</td>\n",
              "      <td>-1</td>\n",
              "      <td>-1</td>\n",
              "      <td>-1</td>\n",
              "      <td>-1</td>\n",
              "      <td>...</td>\n",
              "      <td>-1</td>\n",
              "      <td>1</td>\n",
              "      <td>1</td>\n",
              "      <td>-1</td>\n",
              "      <td>1</td>\n",
              "      <td>-1</td>\n",
              "      <td>1</td>\n",
              "      <td>0</td>\n",
              "      <td>-1</td>\n",
              "      <td>-1</td>\n",
              "    </tr>\n",
              "    <tr>\n",
              "      <th>3</th>\n",
              "      <td>4</td>\n",
              "      <td>1</td>\n",
              "      <td>0</td>\n",
              "      <td>1</td>\n",
              "      <td>-1.0</td>\n",
              "      <td>1</td>\n",
              "      <td>-1</td>\n",
              "      <td>-1</td>\n",
              "      <td>-1</td>\n",
              "      <td>1</td>\n",
              "      <td>...</td>\n",
              "      <td>1</td>\n",
              "      <td>1</td>\n",
              "      <td>-1</td>\n",
              "      <td>-1</td>\n",
              "      <td>1</td>\n",
              "      <td>-1</td>\n",
              "      <td>1</td>\n",
              "      <td>-1</td>\n",
              "      <td>1</td>\n",
              "      <td>-1</td>\n",
              "    </tr>\n",
              "    <tr>\n",
              "      <th>4</th>\n",
              "      <td>5</td>\n",
              "      <td>1</td>\n",
              "      <td>0</td>\n",
              "      <td>-1</td>\n",
              "      <td>-1.0</td>\n",
              "      <td>1</td>\n",
              "      <td>-1</td>\n",
              "      <td>1</td>\n",
              "      <td>1</td>\n",
              "      <td>-1</td>\n",
              "      <td>...</td>\n",
              "      <td>1</td>\n",
              "      <td>-1</td>\n",
              "      <td>-1</td>\n",
              "      <td>-1</td>\n",
              "      <td>0</td>\n",
              "      <td>-1</td>\n",
              "      <td>1</td>\n",
              "      <td>1</td>\n",
              "      <td>1</td>\n",
              "      <td>1</td>\n",
              "    </tr>\n",
              "  </tbody>\n",
              "</table>\n",
              "<p>5 rows × 26 columns</p>\n",
              "</div>\n",
              "      <button class=\"colab-df-convert\" onclick=\"convertToInteractive('df-552a3c3d-7c14-4a19-9809-248e6c752253')\"\n",
              "              title=\"Convert this dataframe to an interactive table.\"\n",
              "              style=\"display:none;\">\n",
              "        \n",
              "  <svg xmlns=\"http://www.w3.org/2000/svg\" height=\"24px\"viewBox=\"0 0 24 24\"\n",
              "       width=\"24px\">\n",
              "    <path d=\"M0 0h24v24H0V0z\" fill=\"none\"/>\n",
              "    <path d=\"M18.56 5.44l.94 2.06.94-2.06 2.06-.94-2.06-.94-.94-2.06-.94 2.06-2.06.94zm-11 1L8.5 8.5l.94-2.06 2.06-.94-2.06-.94L8.5 2.5l-.94 2.06-2.06.94zm10 10l.94 2.06.94-2.06 2.06-.94-2.06-.94-.94-2.06-.94 2.06-2.06.94z\"/><path d=\"M17.41 7.96l-1.37-1.37c-.4-.4-.92-.59-1.43-.59-.52 0-1.04.2-1.43.59L10.3 9.45l-7.72 7.72c-.78.78-.78 2.05 0 2.83L4 21.41c.39.39.9.59 1.41.59.51 0 1.02-.2 1.41-.59l7.78-7.78 2.81-2.81c.8-.78.8-2.07 0-2.86zM5.41 20L4 18.59l7.72-7.72 1.47 1.35L5.41 20z\"/>\n",
              "  </svg>\n",
              "      </button>\n",
              "      \n",
              "  <style>\n",
              "    .colab-df-container {\n",
              "      display:flex;\n",
              "      flex-wrap:wrap;\n",
              "      gap: 12px;\n",
              "    }\n",
              "\n",
              "    .colab-df-convert {\n",
              "      background-color: #E8F0FE;\n",
              "      border: none;\n",
              "      border-radius: 50%;\n",
              "      cursor: pointer;\n",
              "      display: none;\n",
              "      fill: #1967D2;\n",
              "      height: 32px;\n",
              "      padding: 0 0 0 0;\n",
              "      width: 32px;\n",
              "    }\n",
              "\n",
              "    .colab-df-convert:hover {\n",
              "      background-color: #E2EBFA;\n",
              "      box-shadow: 0px 1px 2px rgba(60, 64, 67, 0.3), 0px 1px 3px 1px rgba(60, 64, 67, 0.15);\n",
              "      fill: #174EA6;\n",
              "    }\n",
              "\n",
              "    [theme=dark] .colab-df-convert {\n",
              "      background-color: #3B4455;\n",
              "      fill: #D2E3FC;\n",
              "    }\n",
              "\n",
              "    [theme=dark] .colab-df-convert:hover {\n",
              "      background-color: #434B5C;\n",
              "      box-shadow: 0px 1px 3px 1px rgba(0, 0, 0, 0.15);\n",
              "      filter: drop-shadow(0px 1px 2px rgba(0, 0, 0, 0.3));\n",
              "      fill: #FFFFFF;\n",
              "    }\n",
              "  </style>\n",
              "\n",
              "      <script>\n",
              "        const buttonEl =\n",
              "          document.querySelector('#df-552a3c3d-7c14-4a19-9809-248e6c752253 button.colab-df-convert');\n",
              "        buttonEl.style.display =\n",
              "          google.colab.kernel.accessAllowed ? 'block' : 'none';\n",
              "\n",
              "        async function convertToInteractive(key) {\n",
              "          const element = document.querySelector('#df-552a3c3d-7c14-4a19-9809-248e6c752253');\n",
              "          const dataTable =\n",
              "            await google.colab.kernel.invokeFunction('convertToInteractive',\n",
              "                                                     [key], {});\n",
              "          if (!dataTable) return;\n",
              "\n",
              "          const docLinkHtml = 'Like what you see? Visit the ' +\n",
              "            '<a target=\"_blank\" href=https://colab.research.google.com/notebooks/data_table.ipynb>data table notebook</a>'\n",
              "            + ' to learn more about interactive tables.';\n",
              "          element.innerHTML = '';\n",
              "          dataTable['output_type'] = 'display_data';\n",
              "          await google.colab.output.renderOutput(dataTable, element);\n",
              "          const docLink = document.createElement('div');\n",
              "          docLink.innerHTML = docLinkHtml;\n",
              "          element.appendChild(docLink);\n",
              "        }\n",
              "      </script>\n",
              "    </div>\n",
              "  </div>\n",
              "  "
            ]
          },
          "metadata": {},
          "execution_count": 9
        }
      ]
    },
    {
      "cell_type": "code",
      "metadata": {
        "colab": {
          "base_uri": "https://localhost:8080/",
          "height": 352
        },
        "id": "KhAqhaZUXGJE",
        "outputId": "90ea4a17-2645-4522-ca21-de9311c7524e"
      },
      "source": [
        "# print(df['having_At_Symbol'])\n",
        "sns.heatmap(df.isnull())\n",
        "plt.savefig('clean_heatmap.png')"
      ],
      "execution_count": null,
      "outputs": [
        {
          "output_type": "display_data",
          "data": {
            "text/plain": [
              "<Figure size 432x288 with 2 Axes>"
            ],
            "image/png": "[encoded data removed]"
          },
          "metadata": {
            "needs_background": "light"
          }
        }
      ]
    },
    {
      "cell_type": "code",
      "metadata": {
        "colab": {
          "base_uri": "https://localhost:8080/",
          "height": 297
        },
        "id": "Psp2dyEKalEt",
        "outputId": "e5a07bde-5de9-4fdb-b49d-b613b0b78902"
      },
      "source": [
        "sns.set_style('whitegrid')\n",
        "sns.countplot(x='having_At_Symbol',data=df)"
      ],
      "execution_count": null,
      "outputs": [
        {
          "output_type": "execute_result",
          "data": {
            "text/plain": [
              "<matplotlib.axes._subplots.AxesSubplot at 0x7f9938342a50>"
            ]
          },
          "metadata": {},
          "execution_count": 11
        },
        {
          "output_type": "display_data",
          "data": {
            "text/plain": [
              "<Figure size 432x288 with 1 Axes>"
            ],
            "image/png": "[encoded data removed]"
          },
          "metadata": {}
        }
      ]
    },
    {
      "cell_type": "code",
      "metadata": {
        "colab": {
          "base_uri": "https://localhost:8080/",
          "height": 297
        },
        "id": "RGzMVXSg0arE",
        "outputId": "8a912ab5-8150-497b-d8d1-fe6563855c41"
      },
      "source": [
        "sns.countplot(x='having_IPhaving_IP_Address',data=df)"
      ],
      "execution_count": null,
      "outputs": [
        {
          "output_type": "execute_result",
          "data": {
            "text/plain": [
              "<matplotlib.axes._subplots.AxesSubplot at 0x7f9937d3bcd0>"
            ]
          },
          "metadata": {},
          "execution_count": 12
        },
        {
          "output_type": "display_data",
          "data": {
            "text/plain": [
              "<Figure size 432x288 with 1 Axes>"
            ],
            "image/png": "[encoded data removed]"
          },
          "metadata": {}
        }
      ]
    },
    {
      "cell_type": "code",
      "metadata": {
        "colab": {
          "base_uri": "https://localhost:8080/",
          "height": 297
        },
        "id": "xaT3wlpr0kJu",
        "outputId": "c62af704-3b48-4cdd-e52e-06736d78cddf"
      },
      "source": [
        "sns.countplot(x='web_traffic', data=df)"
      ],
      "execution_count": null,
      "outputs": [
        {
          "output_type": "execute_result",
          "data": {
            "text/plain": [
              "<matplotlib.axes._subplots.AxesSubplot at 0x7f9937d0bfd0>"
            ]
          },
          "metadata": {},
          "execution_count": 13
        },
        {
          "output_type": "display_data",
          "data": {
            "text/plain": [
              "<Figure size 432x288 with 1 Axes>"
            ],
            "image/png": "[encoded data removed]"
          },
          "metadata": {}
        }
      ]
    },
    {
      "cell_type": "code",
      "metadata": {
        "colab": {
          "base_uri": "https://localhost:8080/",
          "height": 296
        },
        "id": "72y9NWjc0rbF",
        "outputId": "f5c8bd77-9f6e-48db-e9d0-1a8fb81f976a"
      },
      "source": [
        "sns.countplot(x='Result', data=df)"
      ],
      "execution_count": null,
      "outputs": [
        {
          "output_type": "execute_result",
          "data": {
            "text/plain": [
              "<matplotlib.axes._subplots.AxesSubplot at 0x7f9937d0fd50>"
            ]
          },
          "metadata": {},
          "execution_count": 14
        },
        {
          "output_type": "display_data",
          "data": {
            "text/plain": [
              "<Figure size 432x288 with 1 Axes>"
            ],
            "image/png": "[encoded data removed]"
          },
          "metadata": {}
        }
      ]
    },
    {
      "cell_type": "code",
      "metadata": {
        "colab": {
          "base_uri": "https://localhost:8080/",
          "height": 297
        },
        "id": "mG4RI0lg02bh",
        "outputId": "b93c7b72-7cc1-49c8-a7f7-d9595c5fdeec"
      },
      "source": [
        "sns.countplot(x='Links_pointing_to_page', data=df)"
      ],
      "execution_count": null,
      "outputs": [
        {
          "output_type": "execute_result",
          "data": {
            "text/plain": [
              "<matplotlib.axes._subplots.AxesSubplot at 0x7f9937d45b50>"
            ]
          },
          "metadata": {},
          "execution_count": 15
        },
        {
          "output_type": "display_data",
          "data": {
            "text/plain": [
              "<Figure size 432x288 with 1 Axes>"
            ],
            "image/png": "[encoded data removed]"
          },
          "metadata": {}
        }
      ]
    },
    {
      "cell_type": "code",
      "metadata": {
        "colab": {
          "base_uri": "https://localhost:8080/",
          "height": 296
        },
        "id": "0_UoCxNc1-16",
        "outputId": "187d2f2a-d72b-48a2-efce-81ed13255d97"
      },
      "source": [
        "sns.countplot(x='Result', hue='having_At_Symbol', data=df)"
      ],
      "execution_count": null,
      "outputs": [
        {
          "output_type": "execute_result",
          "data": {
            "text/plain": [
              "<matplotlib.axes._subplots.AxesSubplot at 0x7f9937c70910>"
            ]
          },
          "metadata": {},
          "execution_count": 16
        },
        {
          "output_type": "display_data",
          "data": {
            "text/plain": [
              "<Figure size 432x288 with 1 Axes>"
            ],
            "image/png": "[encoded data removed]"
          },
          "metadata": {}
        }
      ]
    },
    {
      "cell_type": "code",
      "metadata": {
        "colab": {
          "base_uri": "https://localhost:8080/",
          "height": 355
        },
        "id": "vsSm0FrT2aBU",
        "outputId": "425774c9-8216-4a1e-8ca4-d4be12559c1a"
      },
      "source": [
        "sns.distplot(df['Result'], color='darkred')"
      ],
      "execution_count": null,
      "outputs": [
        {
          "output_type": "stream",
          "name": "stderr",
          "text": [
            "/usr/local/lib/python3.7/dist-packages/seaborn/distributions.py:2619: FutureWarning: `distplot` is a deprecated function and will be removed in a future version. Please adapt your code to use either `displot` (a figure-level function with similar flexibility) or `histplot` (an axes-level function for histograms).\n",
            "  warnings.warn(msg, FutureWarning)\n"
          ]
        },
        {
          "output_type": "execute_result",
          "data": {
            "text/plain": [
              "<matplotlib.axes._subplots.AxesSubplot at 0x7f9937b594d0>"
            ]
          },
          "metadata": {},
          "execution_count": 17
        },
        {
          "output_type": "display_data",
          "data": {
            "text/plain": [
              "<Figure size 432x288 with 1 Axes>"
            ],
            "image/png": "[encoded data removed]"
          },
          "metadata": {}
        }
      ]
    },
    {
      "cell_type": "code",
      "metadata": {
        "colab": {
          "base_uri": "https://localhost:8080/",
          "height": 352
        },
        "id": "48mBx27U26PM",
        "outputId": "6d0df4cc-04eb-425c-acf7-1ce24a1a15fc"
      },
      "source": [
        "sns.distplot(df['Links_pointing_to_page'])"
      ],
      "execution_count": null,
      "outputs": [
        {
          "output_type": "stream",
          "name": "stderr",
          "text": [
            "/usr/local/lib/python3.7/dist-packages/seaborn/distributions.py:2619: FutureWarning: `distplot` is a deprecated function and will be removed in a future version. Please adapt your code to use either `displot` (a figure-level function with similar flexibility) or `histplot` (an axes-level function for histograms).\n",
            "  warnings.warn(msg, FutureWarning)\n"
          ]
        },
        {
          "output_type": "execute_result",
          "data": {
            "text/plain": [
              "<matplotlib.axes._subplots.AxesSubplot at 0x7f9937a96b90>"
            ]
          },
          "metadata": {},
          "execution_count": 18
        },
        {
          "output_type": "display_data",
          "data": {
            "text/plain": [
              "<Figure size 432x288 with 1 Axes>"
            ],
            "image/png": "[encoded data removed]"
          },
          "metadata": {}
        }
      ]
    },
    {
      "cell_type": "code",
      "metadata": {
        "colab": {
          "base_uri": "https://localhost:8080/",
          "height": 386
        },
        "id": "atp1g3l13Nli",
        "outputId": "0bea91c4-f0cd-4b9a-a1ff-6be3df2e3878"
      },
      "source": [
        "sns.displot(df['web_traffic'])"
      ],
      "execution_count": null,
      "outputs": [
        {
          "output_type": "execute_result",
          "data": {
            "text/plain": [
              "<seaborn.axisgrid.FacetGrid at 0x7f9937be5750>"
            ]
          },
          "metadata": {},
          "execution_count": 19
        },
        {
          "output_type": "display_data",
          "data": {
            "text/plain": [
              "<Figure size 360x360 with 1 Axes>"
            ],
            "image/png": "[encoded data removed]"
          },
          "metadata": {}
        }
      ]
    },
    {
      "cell_type": "code",
      "metadata": {
        "id": "iiVPwDXK-dsk"
      },
      "source": [
        "a=len(df[df.Result==0])\n",
        "b=len(df[df.Result==-1])\n",
        "c=len(df[df.Result==1])"
      ],
      "execution_count": null,
      "outputs": []
    },
    {
      "cell_type": "code",
      "metadata": {
        "colab": {
          "base_uri": "https://localhost:8080/"
        },
        "id": "xEBbgd11_75t",
        "outputId": "f06ed75f-e722-4c88-95d2-c639f13b1d80"
      },
      "source": [
        "print(\"Count of Legitimate Websites = \", b)\n",
        "print(\"Count of Suspicious Websites = \", a)\n",
        "print(\"Count of Phishy Websites = \", c)"
      ],
      "execution_count": null,
      "outputs": [
        {
          "output_type": "stream",
          "name": "stdout",
          "text": [
            "Count of Legitimate Websites =  4898\n",
            "Count of Suspicious Websites =  0\n",
            "Count of Phishy Websites =  6157\n"
          ]
        }
      ]
    },
    {
      "cell_type": "code",
      "metadata": {
        "colab": {
          "base_uri": "https://localhost:8080/"
        },
        "id": "q0BiyeFlB7Sr",
        "outputId": "42abc009-f752-44e1-85b9-1244d57e83c0"
      },
      "source": [
        "df.drop(['index'],axis=1,inplace=True)\n",
        "print(len(df.columns))"
      ],
      "execution_count": null,
      "outputs": [
        {
          "output_type": "stream",
          "name": "stdout",
          "text": [
            "25\n"
          ]
        }
      ]
    },
    {
      "cell_type": "code",
      "metadata": {
        "colab": {
          "base_uri": "https://localhost:8080/",
          "height": 1000
        },
        "id": "dmfshWh1_-K1",
        "outputId": "586f5743-3683-4534-c52c-49a2aff9052f"
      },
      "source": [
        "\n",
        "df.plot.hist(subplots=True,layout=(5,5),figsize=(15, 15), bins=20)\n"
      ],
      "execution_count": null,
      "outputs": [
        {
          "output_type": "execute_result",
          "data": {
            "text/plain": [
              "array([[<matplotlib.axes._subplots.AxesSubplot object at 0x7f99378cc910>,\n",
              "        <matplotlib.axes._subplots.AxesSubplot object at 0x7f993787af50>,\n",
              "        <matplotlib.axes._subplots.AxesSubplot object at 0x7f99378cc590>,\n",
              "        <matplotlib.axes._subplots.AxesSubplot object at 0x7f99377f75d0>,\n",
              "        <matplotlib.axes._subplots.AxesSubplot object at 0x7f99377af910>],\n",
              "       [<matplotlib.axes._subplots.AxesSubplot object at 0x7f9937d34e50>,\n",
              "        <matplotlib.axes._subplots.AxesSubplot object at 0x7f9937c12a10>,\n",
              "        <matplotlib.axes._subplots.AxesSubplot object at 0x7f9937849310>,\n",
              "        <matplotlib.axes._subplots.AxesSubplot object at 0x7f9937849610>,\n",
              "        <matplotlib.axes._subplots.AxesSubplot object at 0x7f993ac6a090>],\n",
              "       [<matplotlib.axes._subplots.AxesSubplot object at 0x7f99383ef310>,\n",
              "        <matplotlib.axes._subplots.AxesSubplot object at 0x7f9938349290>,\n",
              "        <matplotlib.axes._subplots.AxesSubplot object at 0x7f9937e19290>,\n",
              "        <matplotlib.axes._subplots.AxesSubplot object at 0x7f9938380f90>,\n",
              "        <matplotlib.axes._subplots.AxesSubplot object at 0x7f993777a3d0>],\n",
              "       [<matplotlib.axes._subplots.AxesSubplot object at 0x7f9937733710>,\n",
              "        <matplotlib.axes._subplots.AxesSubplot object at 0x7f993776ba50>,\n",
              "        <matplotlib.axes._subplots.AxesSubplot object at 0x7f9937724d90>,\n",
              "        <matplotlib.axes._subplots.AxesSubplot object at 0x7f99376ea110>,\n",
              "        <matplotlib.axes._subplots.AxesSubplot object at 0x7f99376a2450>],\n",
              "       [<matplotlib.axes._subplots.AxesSubplot object at 0x7f993765b790>,\n",
              "        <matplotlib.axes._subplots.AxesSubplot object at 0x7f9937612ad0>,\n",
              "        <matplotlib.axes._subplots.AxesSubplot object at 0x7f99375c7e90>,\n",
              "        <matplotlib.axes._subplots.AxesSubplot object at 0x7f993758d210>,\n",
              "        <matplotlib.axes._subplots.AxesSubplot object at 0x7f9937544550>]],\n",
              "      dtype=object)"
            ]
          },
          "metadata": {},
          "execution_count": 23
        },
        {
          "output_type": "display_data",
          "data": {
            "text/plain": [
              "<Figure size 1080x1080 with 25 Axes>"
            ],
            "image/png": "[encoded data removed]"
          },
          "metadata": {}
        }
      ]
    },
    {
      "cell_type": "code",
      "metadata": {
        "colab": {
          "base_uri": "https://localhost:8080/",
          "height": 927
        },
        "id": "qWem5AdiCLSH",
        "outputId": "6f7689d4-47ef-4682-a093-d16e5b8fd9e7"
      },
      "source": [
        "df.corr()"
      ],
      "execution_count": null,
      "outputs": [
        {
          "output_type": "execute_result",
          "data": {
            "text/plain": [
              "                             having_IPhaving_IP_Address  URLURL_Length  \\\n",
              "having_IPhaving_IP_Address                     1.000000      -0.052411   \n",
              "URLURL_Length                                 -0.052411       1.000000   \n",
              "Shortining_Service                             0.403461      -0.097881   \n",
              "having_At_Symbol                              -0.004686      -0.001648   \n",
              "double_slash_redirecting                       0.397389      -0.081247   \n",
              "Prefix_Suffix                                 -0.005257       0.055247   \n",
              "having_Sub_Domain                             -0.080745       0.003997   \n",
              "SSLfinal_State                                 0.071414       0.048754   \n",
              "Domain_registeration_length                   -0.022739      -0.221892   \n",
              "port                                           0.060979       0.000323   \n",
              "HTTPS_token                                    0.363534      -0.089383   \n",
              "Request_URL                                    0.029773       0.246348   \n",
              "URL_of_Anchor                                  0.099847      -0.023396   \n",
              "Links_in_tags                                  0.006212       0.052869   \n",
              "SFH                                           -0.010962       0.414196   \n",
              "Abnormal_URL                                   0.336549      -0.106761   \n",
              "on_mouseover                                   0.084059      -0.045103   \n",
              "age_of_domain                                 -0.010446       0.179426   \n",
              "DNSRecord                                     -0.050733      -0.040823   \n",
              "web_traffic                                    0.002922       0.008993   \n",
              "Page_Rank                                     -0.091774       0.183518   \n",
              "Google_Index                                   0.029153       0.002902   \n",
              "Links_pointing_to_page                        -0.339065      -0.022987   \n",
              "Statistical_report                            -0.019103      -0.067153   \n",
              "Result                                         0.094160       0.057430   \n",
              "\n",
              "                             Shortining_Service  having_At_Symbol  \\\n",
              "having_IPhaving_IP_Address             0.403461         -0.004686   \n",
              "URLURL_Length                         -0.097881         -0.001648   \n",
              "Shortining_Service                     1.000000          0.016886   \n",
              "having_At_Symbol                       0.016886          1.000000   \n",
              "double_slash_redirecting               0.842796          0.008331   \n",
              "Prefix_Suffix                         -0.080471         -0.014195   \n",
              "having_Sub_Domain                     -0.041916          0.029775   \n",
              "SSLfinal_State                        -0.061426         -0.002425   \n",
              "Domain_registeration_length            0.060923          0.006070   \n",
              "port                                   0.002201          0.040849   \n",
              "HTTPS_token                            0.757838          0.014475   \n",
              "Request_URL                           -0.037235          0.000662   \n",
              "URL_of_Anchor                          0.000561          0.000404   \n",
              "Links_in_tags                         -0.133379         -0.003310   \n",
              "SFH                                   -0.022723          0.008602   \n",
              "Abnormal_URL                           0.739290          0.032068   \n",
              "on_mouseover                           0.062383          0.034065   \n",
              "age_of_domain                         -0.052596          0.023468   \n",
              "DNSRecord                              0.436064          0.028468   \n",
              "web_traffic                           -0.047074         -0.009600   \n",
              "Page_Rank                              0.014591          0.005504   \n",
              "Google_Index                           0.155844          0.018787   \n",
              "Links_pointing_to_page                -0.198410         -0.027367   \n",
              "Statistical_report                     0.085461         -0.001189   \n",
              "Result                                -0.067966         -0.002568   \n",
              "\n",
              "                             double_slash_redirecting  Prefix_Suffix  \\\n",
              "having_IPhaving_IP_Address                   0.397389      -0.005257   \n",
              "URLURL_Length                               -0.081247       0.055247   \n",
              "Shortining_Service                           0.842796      -0.080471   \n",
              "having_At_Symbol                             0.008331      -0.014195   \n",
              "double_slash_redirecting                     1.000000      -0.085590   \n",
              "Prefix_Suffix                               -0.085590       1.000000   \n",
              "having_Sub_Domain                           -0.043079       0.087891   \n",
              "SSLfinal_State                              -0.036200       0.261391   \n",
              "Domain_registeration_length                  0.047464      -0.096799   \n",
              "port                                         0.025060      -0.022546   \n",
              "HTTPS_token                                  0.760799      -0.070153   \n",
              "Request_URL                                 -0.026368       0.098675   \n",
              "URL_of_Anchor                               -0.005036       0.348871   \n",
              "Links_in_tags                               -0.125583       0.100254   \n",
              "SFH                                         -0.041672       0.001326   \n",
              "Abnormal_URL                                 0.723724      -0.077620   \n",
              "on_mouseover                                 0.086635       0.012578   \n",
              "age_of_domain                               -0.050107       0.074116   \n",
              "DNSRecord                                    0.431409      -0.016556   \n",
              "web_traffic                                 -0.062369       0.110598   \n",
              "Page_Rank                                   -0.003132      -0.006834   \n",
              "Google_Index                                 0.178415       0.067781   \n",
              "Links_pointing_to_page                      -0.194165       0.067423   \n",
              "Statistical_report                           0.070390      -0.002763   \n",
              "Result                                      -0.038608       0.348606   \n",
              "\n",
              "                             having_Sub_Domain  SSLfinal_State  \\\n",
              "having_IPhaving_IP_Address           -0.080745        0.071414   \n",
              "URLURL_Length                         0.003997        0.048754   \n",
              "Shortining_Service                   -0.041916       -0.061426   \n",
              "having_At_Symbol                      0.029775       -0.002425   \n",
              "double_slash_redirecting             -0.043079       -0.036200   \n",
              "Prefix_Suffix                         0.087891        0.261391   \n",
              "having_Sub_Domain                     1.000000        0.267649   \n",
              "SSLfinal_State                        0.267649        1.000000   \n",
              "Domain_registeration_length          -0.082839       -0.193622   \n",
              "port                                  0.004863        0.027473   \n",
              "HTTPS_token                          -0.037239       -0.029941   \n",
              "Request_URL                           0.104857        0.193054   \n",
              "URL_of_Anchor                         0.229491        0.535786   \n",
              "Links_in_tags                         0.093646        0.176825   \n",
              "SFH                                   0.096089        0.171402   \n",
              "Abnormal_URL                         -0.034908       -0.046245   \n",
              "on_mouseover                         -0.018082        0.023586   \n",
              "age_of_domain                         0.119254        0.162809   \n",
              "DNSRecord                             0.125493        0.050972   \n",
              "web_traffic                          -0.005764        0.258768   \n",
              "Page_Rank                             0.120730        0.074545   \n",
              "Google_Index                          0.057673        0.096051   \n",
              "Links_pointing_to_page               -0.010526       -0.011710   \n",
              "Statistical_report                    0.081627        0.063411   \n",
              "Result                                0.298323        0.714741   \n",
              "\n",
              "                             Domain_registeration_length      port  ...  \\\n",
              "having_IPhaving_IP_Address                     -0.022739  0.060979  ...   \n",
              "URLURL_Length                                  -0.221892  0.000323  ...   \n",
              "Shortining_Service                              0.060923  0.002201  ...   \n",
              "having_At_Symbol                                0.006070  0.040849  ...   \n",
              "double_slash_redirecting                        0.047464  0.025060  ...   \n",
              "Prefix_Suffix                                  -0.096799 -0.022546  ...   \n",
              "having_Sub_Domain                              -0.082839  0.004863  ...   \n",
              "SSLfinal_State                                 -0.193622  0.027473  ...   \n",
              "Domain_registeration_length                     1.000000  0.022478  ...   \n",
              "port                                            0.022478  1.000000  ...   \n",
              "HTTPS_token                                     0.059161  0.004999  ...   \n",
              "Request_URL                                    -0.609970  0.027561  ...   \n",
              "URL_of_Anchor                                  -0.160257  0.039891  ...   \n",
              "Links_in_tags                                  -0.101084 -0.066502  ...   \n",
              "SFH                                            -0.136422  0.006672  ...   \n",
              "Abnormal_URL                                    0.058109  0.054126  ...   \n",
              "on_mouseover                                    0.023784  0.623298  ...   \n",
              "age_of_domain                                  -0.062851  0.008459  ...   \n",
              "DNSRecord                                      -0.010477  0.054849  ...   \n",
              "web_traffic                                    -0.134454 -0.028543  ...   \n",
              "Page_Rank                                      -0.059898  0.017954  ...   \n",
              "Google_Index                                   -0.039766 -0.005413  ...   \n",
              "Links_pointing_to_page                          0.122672 -0.139104  ...   \n",
              "Statistical_report                             -0.002212  0.343987  ...   \n",
              "Result                                         -0.225789  0.036419  ...   \n",
              "\n",
              "                             Abnormal_URL  on_mouseover  age_of_domain  \\\n",
              "having_IPhaving_IP_Address       0.336549      0.084059      -0.010446   \n",
              "URLURL_Length                   -0.106761     -0.045103       0.179426   \n",
              "Shortining_Service               0.739290      0.062383      -0.052596   \n",
              "having_At_Symbol                 0.032068      0.034065       0.023468   \n",
              "double_slash_redirecting         0.723724      0.086635      -0.050107   \n",
              "Prefix_Suffix                   -0.077620      0.012578       0.074116   \n",
              "having_Sub_Domain               -0.034908     -0.018082       0.119254   \n",
              "SSLfinal_State                  -0.046245      0.023586       0.162809   \n",
              "Domain_registeration_length      0.058109      0.023784      -0.062851   \n",
              "port                             0.054126      0.623298       0.008459   \n",
              "HTTPS_token                      0.716287      0.110113      -0.049632   \n",
              "Request_URL                     -0.036034      0.008144       0.090455   \n",
              "URL_of_Anchor                   -0.010585      0.067742       0.075508   \n",
              "Links_in_tags                   -0.116065     -0.077670       0.078057   \n",
              "SFH                             -0.030752      0.007579      -0.015840   \n",
              "Abnormal_URL                     1.000000      0.117638      -0.032533   \n",
              "on_mouseover                     0.117638      1.000000       0.013306   \n",
              "age_of_domain                   -0.032533      0.013306       1.000000   \n",
              "DNSRecord                        0.366833      0.087161      -0.034082   \n",
              "web_traffic                     -0.052416     -0.036531       0.089949   \n",
              "Page_Rank                        0.007318      0.015634      -0.147194   \n",
              "Google_Index                     0.124751     -0.006510      -0.028471   \n",
              "Links_pointing_to_page          -0.161027     -0.038551       0.040407   \n",
              "Statistical_report               0.186399      0.277347       0.009115   \n",
              "Result                          -0.060488      0.041838       0.121496   \n",
              "\n",
              "                             DNSRecord  web_traffic  Page_Rank  Google_Index  \\\n",
              "having_IPhaving_IP_Address   -0.050733     0.002922  -0.091774      0.029153   \n",
              "URLURL_Length                -0.040823     0.008993   0.183518      0.002902   \n",
              "Shortining_Service            0.436064    -0.047074   0.014591      0.155844   \n",
              "having_At_Symbol              0.028468    -0.009600   0.005504      0.018787   \n",
              "double_slash_redirecting      0.431409    -0.062369  -0.003132      0.178415   \n",
              "Prefix_Suffix                -0.016556     0.110598  -0.006834      0.067781   \n",
              "having_Sub_Domain             0.125493    -0.005764   0.120730      0.057673   \n",
              "SSLfinal_State                0.050972     0.258768   0.074545      0.096051   \n",
              "Domain_registeration_length  -0.010477    -0.134454  -0.059898     -0.039766   \n",
              "port                          0.054849    -0.028543   0.017954     -0.005413   \n",
              "HTTPS_token                   0.395387    -0.039708   0.021104      0.115450   \n",
              "Request_URL                   0.015933     0.161166   0.055734      0.046409   \n",
              "URL_of_Anchor                 0.093288     0.326293   0.099261      0.038816   \n",
              "Links_in_tags                -0.038545     0.064548  -0.006450      0.045557   \n",
              "SFH                           0.034440     0.052706   0.001979      0.027588   \n",
              "Abnormal_URL                  0.366833    -0.052416   0.007318      0.124751   \n",
              "on_mouseover                  0.087161    -0.036531   0.015634     -0.006510   \n",
              "age_of_domain                -0.034082     0.089949  -0.147194     -0.028471   \n",
              "DNSRecord                     1.000000     0.048650   0.137860      0.137509   \n",
              "web_traffic                   0.048650     1.000000   0.030984     -0.012584   \n",
              "Page_Rank                     0.137860     0.030984   1.000000      0.032431   \n",
              "Google_Index                  0.137509    -0.012584   0.032431      1.000000   \n",
              "Links_pointing_to_page       -0.318266    -0.019860  -0.028216     -0.038777   \n",
              "Statistical_report            0.136860     0.009223   0.031049     -0.005103   \n",
              "Result                        0.075718     0.346103   0.104645      0.128950   \n",
              "\n",
              "                             Links_pointing_to_page  Statistical_report  \\\n",
              "having_IPhaving_IP_Address                -0.339065           -0.019103   \n",
              "URLURL_Length                             -0.022987           -0.067153   \n",
              "Shortining_Service                        -0.198410            0.085461   \n",
              "having_At_Symbol                          -0.027367           -0.001189   \n",
              "double_slash_redirecting                  -0.194165            0.070390   \n",
              "Prefix_Suffix                              0.067423           -0.002763   \n",
              "having_Sub_Domain                         -0.010526            0.081627   \n",
              "SSLfinal_State                            -0.011710            0.063411   \n",
              "Domain_registeration_length                0.122672           -0.002212   \n",
              "port                                      -0.139104            0.343987   \n",
              "HTTPS_token                               -0.128724            0.096187   \n",
              "Request_URL                               -0.067109            0.035412   \n",
              "URL_of_Anchor                              0.018651            0.077377   \n",
              "Links_in_tags                              0.013561           -0.087343   \n",
              "SFH                                       -0.009068           -0.005289   \n",
              "Abnormal_URL                              -0.161027            0.186399   \n",
              "on_mouseover                              -0.038551            0.277347   \n",
              "age_of_domain                              0.040407            0.009115   \n",
              "DNSRecord                                 -0.318266            0.136860   \n",
              "web_traffic                               -0.019860            0.009223   \n",
              "Page_Rank                                 -0.028216            0.031049   \n",
              "Google_Index                              -0.038777           -0.005103   \n",
              "Links_pointing_to_page                     1.000000           -0.016817   \n",
              "Statistical_report                        -0.016817            1.000000   \n",
              "Result                                     0.032574            0.079857   \n",
              "\n",
              "                               Result  \n",
              "having_IPhaving_IP_Address   0.094160  \n",
              "URLURL_Length                0.057430  \n",
              "Shortining_Service          -0.067966  \n",
              "having_At_Symbol            -0.002568  \n",
              "double_slash_redirecting    -0.038608  \n",
              "Prefix_Suffix                0.348606  \n",
              "having_Sub_Domain            0.298323  \n",
              "SSLfinal_State               0.714741  \n",
              "Domain_registeration_length -0.225789  \n",
              "port                         0.036419  \n",
              "HTTPS_token                 -0.039854  \n",
              "Request_URL                  0.253372  \n",
              "URL_of_Anchor                0.692935  \n",
              "Links_in_tags                0.248229  \n",
              "SFH                          0.221419  \n",
              "Abnormal_URL                -0.060488  \n",
              "on_mouseover                 0.041838  \n",
              "age_of_domain                0.121496  \n",
              "DNSRecord                    0.075718  \n",
              "web_traffic                  0.346103  \n",
              "Page_Rank                    0.104645  \n",
              "Google_Index                 0.128950  \n",
              "Links_pointing_to_page       0.032574  \n",
              "Statistical_report           0.079857  \n",
              "Result                       1.000000  \n",
              "\n",
              "[25 rows x 25 columns]"
            ],
            "text/html": [
              "\n",
              "  <div id=\"df-d3260cb2-e7a7-4ebc-92de-56dae24bf17f\">\n",
              "    <div class=\"colab-df-container\">\n",
              "      <div>\n",
              "<style scoped>\n",
              "    .dataframe tbody tr th:only-of-type {\n",
              "        vertical-align: middle;\n",
              "    }\n",
              "\n",
              "    .dataframe tbody tr th {\n",
              "        vertical-align: top;\n",
              "    }\n",
              "\n",
              "    .dataframe thead th {\n",
              "        text-align: right;\n",
              "    }\n",
              "</style>\n",
              "<table border=\"1\" class=\"dataframe\">\n",
              "  <thead>\n",
              "    <tr style=\"text-align: right;\">\n",
              "      <th></th>\n",
              "      <th>having_IPhaving_IP_Address</th>\n",
              "      <th>URLURL_Length</th>\n",
              "      <th>Shortining_Service</th>\n",
              "      <th>having_At_Symbol</th>\n",
              "      <th>double_slash_redirecting</th>\n",
              "      <th>Prefix_Suffix</th>\n",
              "      <th>having_Sub_Domain</th>\n",
              "      <th>SSLfinal_State</th>\n",
              "      <th>Domain_registeration_length</th>\n",
              "      <th>port</th>\n",
              "      <th>...</th>\n",
              "      <th>Abnormal_URL</th>\n",
              "      <th>on_mouseover</th>\n",
              "      <th>age_of_domain</th>\n",
              "      <th>DNSRecord</th>\n",
              "      <th>web_traffic</th>\n",
              "      <th>Page_Rank</th>\n",
              "      <th>Google_Index</th>\n",
              "      <th>Links_pointing_to_page</th>\n",
              "      <th>Statistical_report</th>\n",
              "      <th>Result</th>\n",
              "    </tr>\n",
              "  </thead>\n",
              "  <tbody>\n",
              "    <tr>\n",
              "      <th>having_IPhaving_IP_Address</th>\n",
              "      <td>1.000000</td>\n",
              "      <td>-0.052411</td>\n",
              "      <td>0.403461</td>\n",
              "      <td>-0.004686</td>\n",
              "      <td>0.397389</td>\n",
              "      <td>-0.005257</td>\n",
              "      <td>-0.080745</td>\n",
              "      <td>0.071414</td>\n",
              "      <td>-0.022739</td>\n",
              "      <td>0.060979</td>\n",
              "      <td>...</td>\n",
              "      <td>0.336549</td>\n",
              "      <td>0.084059</td>\n",
              "      <td>-0.010446</td>\n",
              "      <td>-0.050733</td>\n",
              "      <td>0.002922</td>\n",
              "      <td>-0.091774</td>\n",
              "      <td>0.029153</td>\n",
              "      <td>-0.339065</td>\n",
              "      <td>-0.019103</td>\n",
              "      <td>0.094160</td>\n",
              "    </tr>\n",
              "    <tr>\n",
              "      <th>URLURL_Length</th>\n",
              "      <td>-0.052411</td>\n",
              "      <td>1.000000</td>\n",
              "      <td>-0.097881</td>\n",
              "      <td>-0.001648</td>\n",
              "      <td>-0.081247</td>\n",
              "      <td>0.055247</td>\n",
              "      <td>0.003997</td>\n",
              "      <td>0.048754</td>\n",
              "      <td>-0.221892</td>\n",
              "      <td>0.000323</td>\n",
              "      <td>...</td>\n",
              "      <td>-0.106761</td>\n",
              "      <td>-0.045103</td>\n",
              "      <td>0.179426</td>\n",
              "      <td>-0.040823</td>\n",
              "      <td>0.008993</td>\n",
              "      <td>0.183518</td>\n",
              "      <td>0.002902</td>\n",
              "      <td>-0.022987</td>\n",
              "      <td>-0.067153</td>\n",
              "      <td>0.057430</td>\n",
              "    </tr>\n",
              "    <tr>\n",
              "      <th>Shortining_Service</th>\n",
              "      <td>0.403461</td>\n",
              "      <td>-0.097881</td>\n",
              "      <td>1.000000</td>\n",
              "      <td>0.016886</td>\n",
              "      <td>0.842796</td>\n",
              "      <td>-0.080471</td>\n",
              "      <td>-0.041916</td>\n",
              "      <td>-0.061426</td>\n",
              "      <td>0.060923</td>\n",
              "      <td>0.002201</td>\n",
              "      <td>...</td>\n",
              "      <td>0.739290</td>\n",
              "      <td>0.062383</td>\n",
              "      <td>-0.052596</td>\n",
              "      <td>0.436064</td>\n",
              "      <td>-0.047074</td>\n",
              "      <td>0.014591</td>\n",
              "      <td>0.155844</td>\n",
              "      <td>-0.198410</td>\n",
              "      <td>0.085461</td>\n",
              "      <td>-0.067966</td>\n",
              "    </tr>\n",
              "    <tr>\n",
              "      <th>having_At_Symbol</th>\n",
              "      <td>-0.004686</td>\n",
              "      <td>-0.001648</td>\n",
              "      <td>0.016886</td>\n",
              "      <td>1.000000</td>\n",
              "      <td>0.008331</td>\n",
              "      <td>-0.014195</td>\n",
              "      <td>0.029775</td>\n",
              "      <td>-0.002425</td>\n",
              "      <td>0.006070</td>\n",
              "      <td>0.040849</td>\n",
              "      <td>...</td>\n",
              "      <td>0.032068</td>\n",
              "      <td>0.034065</td>\n",
              "      <td>0.023468</td>\n",
              "      <td>0.028468</td>\n",
              "      <td>-0.009600</td>\n",
              "      <td>0.005504</td>\n",
              "      <td>0.018787</td>\n",
              "      <td>-0.027367</td>\n",
              "      <td>-0.001189</td>\n",
              "      <td>-0.002568</td>\n",
              "    </tr>\n",
              "    <tr>\n",
              "      <th>double_slash_redirecting</th>\n",
              "      <td>0.397389</td>\n",
              "      <td>-0.081247</td>\n",
              "      <td>0.842796</td>\n",
              "      <td>0.008331</td>\n",
              "      <td>1.000000</td>\n",
              "      <td>-0.085590</td>\n",
              "      <td>-0.043079</td>\n",
              "      <td>-0.036200</td>\n",
              "      <td>0.047464</td>\n",
              "      <td>0.025060</td>\n",
              "      <td>...</td>\n",
              "      <td>0.723724</td>\n",
              "      <td>0.086635</td>\n",
              "      <td>-0.050107</td>\n",
              "      <td>0.431409</td>\n",
              "      <td>-0.062369</td>\n",
              "      <td>-0.003132</td>\n",
              "      <td>0.178415</td>\n",
              "      <td>-0.194165</td>\n",
              "      <td>0.070390</td>\n",
              "      <td>-0.038608</td>\n",
              "    </tr>\n",
              "    <tr>\n",
              "      <th>Prefix_Suffix</th>\n",
              "      <td>-0.005257</td>\n",
              "      <td>0.055247</td>\n",
              "      <td>-0.080471</td>\n",
              "      <td>-0.014195</td>\n",
              "      <td>-0.085590</td>\n",
              "      <td>1.000000</td>\n",
              "      <td>0.087891</td>\n",
              "      <td>0.261391</td>\n",
              "      <td>-0.096799</td>\n",
              "      <td>-0.022546</td>\n",
              "      <td>...</td>\n",
              "      <td>-0.077620</td>\n",
              "      <td>0.012578</td>\n",
              "      <td>0.074116</td>\n",
              "      <td>-0.016556</td>\n",
              "      <td>0.110598</td>\n",
              "      <td>-0.006834</td>\n",
              "      <td>0.067781</td>\n",
              "      <td>0.067423</td>\n",
              "      <td>-0.002763</td>\n",
              "      <td>0.348606</td>\n",
              "    </tr>\n",
              "    <tr>\n",
              "      <th>having_Sub_Domain</th>\n",
              "      <td>-0.080745</td>\n",
              "      <td>0.003997</td>\n",
              "      <td>-0.041916</td>\n",
              "      <td>0.029775</td>\n",
              "      <td>-0.043079</td>\n",
              "      <td>0.087891</td>\n",
              "      <td>1.000000</td>\n",
              "      <td>0.267649</td>\n",
              "      <td>-0.082839</td>\n",
              "      <td>0.004863</td>\n",
              "      <td>...</td>\n",
              "      <td>-0.034908</td>\n",
              "      <td>-0.018082</td>\n",
              "      <td>0.119254</td>\n",
              "      <td>0.125493</td>\n",
              "      <td>-0.005764</td>\n",
              "      <td>0.120730</td>\n",
              "      <td>0.057673</td>\n",
              "      <td>-0.010526</td>\n",
              "      <td>0.081627</td>\n",
              "      <td>0.298323</td>\n",
              "    </tr>\n",
              "    <tr>\n",
              "      <th>SSLfinal_State</th>\n",
              "      <td>0.071414</td>\n",
              "      <td>0.048754</td>\n",
              "      <td>-0.061426</td>\n",
              "      <td>-0.002425</td>\n",
              "      <td>-0.036200</td>\n",
              "      <td>0.261391</td>\n",
              "      <td>0.267649</td>\n",
              "      <td>1.000000</td>\n",
              "      <td>-0.193622</td>\n",
              "      <td>0.027473</td>\n",
              "      <td>...</td>\n",
              "      <td>-0.046245</td>\n",
              "      <td>0.023586</td>\n",
              "      <td>0.162809</td>\n",
              "      <td>0.050972</td>\n",
              "      <td>0.258768</td>\n",
              "      <td>0.074545</td>\n",
              "      <td>0.096051</td>\n",
              "      <td>-0.011710</td>\n",
              "      <td>0.063411</td>\n",
              "      <td>0.714741</td>\n",
              "    </tr>\n",
              "    <tr>\n",
              "      <th>Domain_registeration_length</th>\n",
              "      <td>-0.022739</td>\n",
              "      <td>-0.221892</td>\n",
              "      <td>0.060923</td>\n",
              "      <td>0.006070</td>\n",
              "      <td>0.047464</td>\n",
              "      <td>-0.096799</td>\n",
              "      <td>-0.082839</td>\n",
              "      <td>-0.193622</td>\n",
              "      <td>1.000000</td>\n",
              "      <td>0.022478</td>\n",
              "      <td>...</td>\n",
              "      <td>0.058109</td>\n",
              "      <td>0.023784</td>\n",
              "      <td>-0.062851</td>\n",
              "      <td>-0.010477</td>\n",
              "      <td>-0.134454</td>\n",
              "      <td>-0.059898</td>\n",
              "      <td>-0.039766</td>\n",
              "      <td>0.122672</td>\n",
              "      <td>-0.002212</td>\n",
              "      <td>-0.225789</td>\n",
              "    </tr>\n",
              "    <tr>\n",
              "      <th>port</th>\n",
              "      <td>0.060979</td>\n",
              "      <td>0.000323</td>\n",
              "      <td>0.002201</td>\n",
              "      <td>0.040849</td>\n",
              "      <td>0.025060</td>\n",
              "      <td>-0.022546</td>\n",
              "      <td>0.004863</td>\n",
              "      <td>0.027473</td>\n",
              "      <td>0.022478</td>\n",
              "      <td>1.000000</td>\n",
              "      <td>...</td>\n",
              "      <td>0.054126</td>\n",
              "      <td>0.623298</td>\n",
              "      <td>0.008459</td>\n",
              "      <td>0.054849</td>\n",
              "      <td>-0.028543</td>\n",
              "      <td>0.017954</td>\n",
              "      <td>-0.005413</td>\n",
              "      <td>-0.139104</td>\n",
              "      <td>0.343987</td>\n",
              "      <td>0.036419</td>\n",
              "    </tr>\n",
              "    <tr>\n",
              "      <th>HTTPS_token</th>\n",
              "      <td>0.363534</td>\n",
              "      <td>-0.089383</td>\n",
              "      <td>0.757838</td>\n",
              "      <td>0.014475</td>\n",
              "      <td>0.760799</td>\n",
              "      <td>-0.070153</td>\n",
              "      <td>-0.037239</td>\n",
              "      <td>-0.029941</td>\n",
              "      <td>0.059161</td>\n",
              "      <td>0.004999</td>\n",
              "      <td>...</td>\n",
              "      <td>0.716287</td>\n",
              "      <td>0.110113</td>\n",
              "      <td>-0.049632</td>\n",
              "      <td>0.395387</td>\n",
              "      <td>-0.039708</td>\n",
              "      <td>0.021104</td>\n",
              "      <td>0.115450</td>\n",
              "      <td>-0.128724</td>\n",
              "      <td>0.096187</td>\n",
              "      <td>-0.039854</td>\n",
              "    </tr>\n",
              "    <tr>\n",
              "      <th>Request_URL</th>\n",
              "      <td>0.029773</td>\n",
              "      <td>0.246348</td>\n",
              "      <td>-0.037235</td>\n",
              "      <td>0.000662</td>\n",
              "      <td>-0.026368</td>\n",
              "      <td>0.098675</td>\n",
              "      <td>0.104857</td>\n",
              "      <td>0.193054</td>\n",
              "      <td>-0.609970</td>\n",
              "      <td>0.027561</td>\n",
              "      <td>...</td>\n",
              "      <td>-0.036034</td>\n",
              "      <td>0.008144</td>\n",
              "      <td>0.090455</td>\n",
              "      <td>0.015933</td>\n",
              "      <td>0.161166</td>\n",
              "      <td>0.055734</td>\n",
              "      <td>0.046409</td>\n",
              "      <td>-0.067109</td>\n",
              "      <td>0.035412</td>\n",
              "      <td>0.253372</td>\n",
              "    </tr>\n",
              "    <tr>\n",
              "      <th>URL_of_Anchor</th>\n",
              "      <td>0.099847</td>\n",
              "      <td>-0.023396</td>\n",
              "      <td>0.000561</td>\n",
              "      <td>0.000404</td>\n",
              "      <td>-0.005036</td>\n",
              "      <td>0.348871</td>\n",
              "      <td>0.229491</td>\n",
              "      <td>0.535786</td>\n",
              "      <td>-0.160257</td>\n",
              "      <td>0.039891</td>\n",
              "      <td>...</td>\n",
              "      <td>-0.010585</td>\n",
              "      <td>0.067742</td>\n",
              "      <td>0.075508</td>\n",
              "      <td>0.093288</td>\n",
              "      <td>0.326293</td>\n",
              "      <td>0.099261</td>\n",
              "      <td>0.038816</td>\n",
              "      <td>0.018651</td>\n",
              "      <td>0.077377</td>\n",
              "      <td>0.692935</td>\n",
              "    </tr>\n",
              "    <tr>\n",
              "      <th>Links_in_tags</th>\n",
              "      <td>0.006212</td>\n",
              "      <td>0.052869</td>\n",
              "      <td>-0.133379</td>\n",
              "      <td>-0.003310</td>\n",
              "      <td>-0.125583</td>\n",
              "      <td>0.100254</td>\n",
              "      <td>0.093646</td>\n",
              "      <td>0.176825</td>\n",
              "      <td>-0.101084</td>\n",
              "      <td>-0.066502</td>\n",
              "      <td>...</td>\n",
              "      <td>-0.116065</td>\n",
              "      <td>-0.077670</td>\n",
              "      <td>0.078057</td>\n",
              "      <td>-0.038545</td>\n",
              "      <td>0.064548</td>\n",
              "      <td>-0.006450</td>\n",
              "      <td>0.045557</td>\n",
              "      <td>0.013561</td>\n",
              "      <td>-0.087343</td>\n",
              "      <td>0.248229</td>\n",
              "    </tr>\n",
              "    <tr>\n",
              "      <th>SFH</th>\n",
              "      <td>-0.010962</td>\n",
              "      <td>0.414196</td>\n",
              "      <td>-0.022723</td>\n",
              "      <td>0.008602</td>\n",
              "      <td>-0.041672</td>\n",
              "      <td>0.001326</td>\n",
              "      <td>0.096089</td>\n",
              "      <td>0.171402</td>\n",
              "      <td>-0.136422</td>\n",
              "      <td>0.006672</td>\n",
              "      <td>...</td>\n",
              "      <td>-0.030752</td>\n",
              "      <td>0.007579</td>\n",
              "      <td>-0.015840</td>\n",
              "      <td>0.034440</td>\n",
              "      <td>0.052706</td>\n",
              "      <td>0.001979</td>\n",
              "      <td>0.027588</td>\n",
              "      <td>-0.009068</td>\n",
              "      <td>-0.005289</td>\n",
              "      <td>0.221419</td>\n",
              "    </tr>\n",
              "    <tr>\n",
              "      <th>Abnormal_URL</th>\n",
              "      <td>0.336549</td>\n",
              "      <td>-0.106761</td>\n",
              "      <td>0.739290</td>\n",
              "      <td>0.032068</td>\n",
              "      <td>0.723724</td>\n",
              "      <td>-0.077620</td>\n",
              "      <td>-0.034908</td>\n",
              "      <td>-0.046245</td>\n",
              "      <td>0.058109</td>\n",
              "      <td>0.054126</td>\n",
              "      <td>...</td>\n",
              "      <td>1.000000</td>\n",
              "      <td>0.117638</td>\n",
              "      <td>-0.032533</td>\n",
              "      <td>0.366833</td>\n",
              "      <td>-0.052416</td>\n",
              "      <td>0.007318</td>\n",
              "      <td>0.124751</td>\n",
              "      <td>-0.161027</td>\n",
              "      <td>0.186399</td>\n",
              "      <td>-0.060488</td>\n",
              "    </tr>\n",
              "    <tr>\n",
              "      <th>on_mouseover</th>\n",
              "      <td>0.084059</td>\n",
              "      <td>-0.045103</td>\n",
              "      <td>0.062383</td>\n",
              "      <td>0.034065</td>\n",
              "      <td>0.086635</td>\n",
              "      <td>0.012578</td>\n",
              "      <td>-0.018082</td>\n",
              "      <td>0.023586</td>\n",
              "      <td>0.023784</td>\n",
              "      <td>0.623298</td>\n",
              "      <td>...</td>\n",
              "      <td>0.117638</td>\n",
              "      <td>1.000000</td>\n",
              "      <td>0.013306</td>\n",
              "      <td>0.087161</td>\n",
              "      <td>-0.036531</td>\n",
              "      <td>0.015634</td>\n",
              "      <td>-0.006510</td>\n",
              "      <td>-0.038551</td>\n",
              "      <td>0.277347</td>\n",
              "      <td>0.041838</td>\n",
              "    </tr>\n",
              "    <tr>\n",
              "      <th>age_of_domain</th>\n",
              "      <td>-0.010446</td>\n",
              "      <td>0.179426</td>\n",
              "      <td>-0.052596</td>\n",
              "      <td>0.023468</td>\n",
              "      <td>-0.050107</td>\n",
              "      <td>0.074116</td>\n",
              "      <td>0.119254</td>\n",
              "      <td>0.162809</td>\n",
              "      <td>-0.062851</td>\n",
              "      <td>0.008459</td>\n",
              "      <td>...</td>\n",
              "      <td>-0.032533</td>\n",
              "      <td>0.013306</td>\n",
              "      <td>1.000000</td>\n",
              "      <td>-0.034082</td>\n",
              "      <td>0.089949</td>\n",
              "      <td>-0.147194</td>\n",
              "      <td>-0.028471</td>\n",
              "      <td>0.040407</td>\n",
              "      <td>0.009115</td>\n",
              "      <td>0.121496</td>\n",
              "    </tr>\n",
              "    <tr>\n",
              "      <th>DNSRecord</th>\n",
              "      <td>-0.050733</td>\n",
              "      <td>-0.040823</td>\n",
              "      <td>0.436064</td>\n",
              "      <td>0.028468</td>\n",
              "      <td>0.431409</td>\n",
              "      <td>-0.016556</td>\n",
              "      <td>0.125493</td>\n",
              "      <td>0.050972</td>\n",
              "      <td>-0.010477</td>\n",
              "      <td>0.054849</td>\n",
              "      <td>...</td>\n",
              "      <td>0.366833</td>\n",
              "      <td>0.087161</td>\n",
              "      <td>-0.034082</td>\n",
              "      <td>1.000000</td>\n",
              "      <td>0.048650</td>\n",
              "      <td>0.137860</td>\n",
              "      <td>0.137509</td>\n",
              "      <td>-0.318266</td>\n",
              "      <td>0.136860</td>\n",
              "      <td>0.075718</td>\n",
              "    </tr>\n",
              "    <tr>\n",
              "      <th>web_traffic</th>\n",
              "      <td>0.002922</td>\n",
              "      <td>0.008993</td>\n",
              "      <td>-0.047074</td>\n",
              "      <td>-0.009600</td>\n",
              "      <td>-0.062369</td>\n",
              "      <td>0.110598</td>\n",
              "      <td>-0.005764</td>\n",
              "      <td>0.258768</td>\n",
              "      <td>-0.134454</td>\n",
              "      <td>-0.028543</td>\n",
              "      <td>...</td>\n",
              "      <td>-0.052416</td>\n",
              "      <td>-0.036531</td>\n",
              "      <td>0.089949</td>\n",
              "      <td>0.048650</td>\n",
              "      <td>1.000000</td>\n",
              "      <td>0.030984</td>\n",
              "      <td>-0.012584</td>\n",
              "      <td>-0.019860</td>\n",
              "      <td>0.009223</td>\n",
              "      <td>0.346103</td>\n",
              "    </tr>\n",
              "    <tr>\n",
              "      <th>Page_Rank</th>\n",
              "      <td>-0.091774</td>\n",
              "      <td>0.183518</td>\n",
              "      <td>0.014591</td>\n",
              "      <td>0.005504</td>\n",
              "      <td>-0.003132</td>\n",
              "      <td>-0.006834</td>\n",
              "      <td>0.120730</td>\n",
              "      <td>0.074545</td>\n",
              "      <td>-0.059898</td>\n",
              "      <td>0.017954</td>\n",
              "      <td>...</td>\n",
              "      <td>0.007318</td>\n",
              "      <td>0.015634</td>\n",
              "      <td>-0.147194</td>\n",
              "      <td>0.137860</td>\n",
              "      <td>0.030984</td>\n",
              "      <td>1.000000</td>\n",
              "      <td>0.032431</td>\n",
              "      <td>-0.028216</td>\n",
              "      <td>0.031049</td>\n",
              "      <td>0.104645</td>\n",
              "    </tr>\n",
              "    <tr>\n",
              "      <th>Google_Index</th>\n",
              "      <td>0.029153</td>\n",
              "      <td>0.002902</td>\n",
              "      <td>0.155844</td>\n",
              "      <td>0.018787</td>\n",
              "      <td>0.178415</td>\n",
              "      <td>0.067781</td>\n",
              "      <td>0.057673</td>\n",
              "      <td>0.096051</td>\n",
              "      <td>-0.039766</td>\n",
              "      <td>-0.005413</td>\n",
              "      <td>...</td>\n",
              "      <td>0.124751</td>\n",
              "      <td>-0.006510</td>\n",
              "      <td>-0.028471</td>\n",
              "      <td>0.137509</td>\n",
              "      <td>-0.012584</td>\n",
              "      <td>0.032431</td>\n",
              "      <td>1.000000</td>\n",
              "      <td>-0.038777</td>\n",
              "      <td>-0.005103</td>\n",
              "      <td>0.128950</td>\n",
              "    </tr>\n",
              "    <tr>\n",
              "      <th>Links_pointing_to_page</th>\n",
              "      <td>-0.339065</td>\n",
              "      <td>-0.022987</td>\n",
              "      <td>-0.198410</td>\n",
              "      <td>-0.027367</td>\n",
              "      <td>-0.194165</td>\n",
              "      <td>0.067423</td>\n",
              "      <td>-0.010526</td>\n",
              "      <td>-0.011710</td>\n",
              "      <td>0.122672</td>\n",
              "      <td>-0.139104</td>\n",
              "      <td>...</td>\n",
              "      <td>-0.161027</td>\n",
              "      <td>-0.038551</td>\n",
              "      <td>0.040407</td>\n",
              "      <td>-0.318266</td>\n",
              "      <td>-0.019860</td>\n",
              "      <td>-0.028216</td>\n",
              "      <td>-0.038777</td>\n",
              "      <td>1.000000</td>\n",
              "      <td>-0.016817</td>\n",
              "      <td>0.032574</td>\n",
              "    </tr>\n",
              "    <tr>\n",
              "      <th>Statistical_report</th>\n",
              "      <td>-0.019103</td>\n",
              "      <td>-0.067153</td>\n",
              "      <td>0.085461</td>\n",
              "      <td>-0.001189</td>\n",
              "      <td>0.070390</td>\n",
              "      <td>-0.002763</td>\n",
              "      <td>0.081627</td>\n",
              "      <td>0.063411</td>\n",
              "      <td>-0.002212</td>\n",
              "      <td>0.343987</td>\n",
              "      <td>...</td>\n",
              "      <td>0.186399</td>\n",
              "      <td>0.277347</td>\n",
              "      <td>0.009115</td>\n",
              "      <td>0.136860</td>\n",
              "      <td>0.009223</td>\n",
              "      <td>0.031049</td>\n",
              "      <td>-0.005103</td>\n",
              "      <td>-0.016817</td>\n",
              "      <td>1.000000</td>\n",
              "      <td>0.079857</td>\n",
              "    </tr>\n",
              "    <tr>\n",
              "      <th>Result</th>\n",
              "      <td>0.094160</td>\n",
              "      <td>0.057430</td>\n",
              "      <td>-0.067966</td>\n",
              "      <td>-0.002568</td>\n",
              "      <td>-0.038608</td>\n",
              "      <td>0.348606</td>\n",
              "      <td>0.298323</td>\n",
              "      <td>0.714741</td>\n",
              "      <td>-0.225789</td>\n",
              "      <td>0.036419</td>\n",
              "      <td>...</td>\n",
              "      <td>-0.060488</td>\n",
              "      <td>0.041838</td>\n",
              "      <td>0.121496</td>\n",
              "      <td>0.075718</td>\n",
              "      <td>0.346103</td>\n",
              "      <td>0.104645</td>\n",
              "      <td>0.128950</td>\n",
              "      <td>0.032574</td>\n",
              "      <td>0.079857</td>\n",
              "      <td>1.000000</td>\n",
              "    </tr>\n",
              "  </tbody>\n",
              "</table>\n",
              "<p>25 rows × 25 columns</p>\n",
              "</div>\n",
              "      <button class=\"colab-df-convert\" onclick=\"convertToInteractive('df-d3260cb2-e7a7-4ebc-92de-56dae24bf17f')\"\n",
              "              title=\"Convert this dataframe to an interactive table.\"\n",
              "              style=\"display:none;\">\n",
              "        \n",
              "  <svg xmlns=\"http://www.w3.org/2000/svg\" height=\"24px\"viewBox=\"0 0 24 24\"\n",
              "       width=\"24px\">\n",
              "    <path d=\"M0 0h24v24H0V0z\" fill=\"none\"/>\n",
              "    <path d=\"M18.56 5.44l.94 2.06.94-2.06 2.06-.94-2.06-.94-.94-2.06-.94 2.06-2.06.94zm-11 1L8.5 8.5l.94-2.06 2.06-.94-2.06-.94L8.5 2.5l-.94 2.06-2.06.94zm10 10l.94 2.06.94-2.06 2.06-.94-2.06-.94-.94-2.06-.94 2.06-2.06.94z\"/><path d=\"M17.41 7.96l-1.37-1.37c-.4-.4-.92-.59-1.43-.59-.52 0-1.04.2-1.43.59L10.3 9.45l-7.72 7.72c-.78.78-.78 2.05 0 2.83L4 21.41c.39.39.9.59 1.41.59.51 0 1.02-.2 1.41-.59l7.78-7.78 2.81-2.81c.8-.78.8-2.07 0-2.86zM5.41 20L4 18.59l7.72-7.72 1.47 1.35L5.41 20z\"/>\n",
              "  </svg>\n",
              "      </button>\n",
              "      \n",
              "  <style>\n",
              "    .colab-df-container {\n",
              "      display:flex;\n",
              "      flex-wrap:wrap;\n",
              "      gap: 12px;\n",
              "    }\n",
              "\n",
              "    .colab-df-convert {\n",
              "      background-color: #E8F0FE;\n",
              "      border: none;\n",
              "      border-radius: 50%;\n",
              "      cursor: pointer;\n",
              "      display: none;\n",
              "      fill: #1967D2;\n",
              "      height: 32px;\n",
              "      padding: 0 0 0 0;\n",
              "      width: 32px;\n",
              "    }\n",
              "\n",
              "    .colab-df-convert:hover {\n",
              "      background-color: #E2EBFA;\n",
              "      box-shadow: 0px 1px 2px rgba(60, 64, 67, 0.3), 0px 1px 3px 1px rgba(60, 64, 67, 0.15);\n",
              "      fill: #174EA6;\n",
              "    }\n",
              "\n",
              "    [theme=dark] .colab-df-convert {\n",
              "      background-color: #3B4455;\n",
              "      fill: #D2E3FC;\n",
              "    }\n",
              "\n",
              "    [theme=dark] .colab-df-convert:hover {\n",
              "      background-color: #434B5C;\n",
              "      box-shadow: 0px 1px 3px 1px rgba(0, 0, 0, 0.15);\n",
              "      filter: drop-shadow(0px 1px 2px rgba(0, 0, 0, 0.3));\n",
              "      fill: #FFFFFF;\n",
              "    }\n",
              "  </style>\n",
              "\n",
              "      <script>\n",
              "        const buttonEl =\n",
              "          document.querySelector('#df-d3260cb2-e7a7-4ebc-92de-56dae24bf17f button.colab-df-convert');\n",
              "        buttonEl.style.display =\n",
              "          google.colab.kernel.accessAllowed ? 'block' : 'none';\n",
              "\n",
              "        async function convertToInteractive(key) {\n",
              "          const element = document.querySelector('#df-d3260cb2-e7a7-4ebc-92de-56dae24bf17f');\n",
              "          const dataTable =\n",
              "            await google.colab.kernel.invokeFunction('convertToInteractive',\n",
              "                                                     [key], {});\n",
              "          if (!dataTable) return;\n",
              "\n",
              "          const docLinkHtml = 'Like what you see? Visit the ' +\n",
              "            '<a target=\"_blank\" href=https://colab.research.google.com/notebooks/data_table.ipynb>data table notebook</a>'\n",
              "            + ' to learn more about interactive tables.';\n",
              "          element.innerHTML = '';\n",
              "          dataTable['output_type'] = 'display_data';\n",
              "          await google.colab.output.renderOutput(dataTable, element);\n",
              "          const docLink = document.createElement('div');\n",
              "          docLink.innerHTML = docLinkHtml;\n",
              "          element.appendChild(docLink);\n",
              "        }\n",
              "      </script>\n",
              "    </div>\n",
              "  </div>\n",
              "  "
            ]
          },
          "metadata": {},
          "execution_count": 24
        }
      ]
    },
    {
      "cell_type": "markdown",
      "metadata": {
        "id": "7cpqZlC5C6Y7"
      },
      "source": [
        "## Split the dataset"
      ]
    },
    {
      "cell_type": "code",
      "metadata": {
        "id": "q_EJmiwNDCA3"
      },
      "source": [
        "from sklearn.model_selection import train_test_split,cross_val_score"
      ],
      "execution_count": null,
      "outputs": []
    },
    {
      "cell_type": "code",
      "metadata": {
        "colab": {
          "base_uri": "https://localhost:8080/",
          "height": 300
        },
        "id": "E144TMTbDIqD",
        "outputId": "9cc84b71-2ce3-4ce8-f81d-237cc9a84a4a"
      },
      "source": [
        "X= df.drop(columns='Result')\n",
        "X.head()"
      ],
      "execution_count": null,
      "outputs": [
        {
          "output_type": "execute_result",
          "data": {
            "text/plain": [
              "   having_IPhaving_IP_Address  URLURL_Length  Shortining_Service  \\\n",
              "0                          -1              1                   1   \n",
              "1                           1              1                   1   \n",
              "2                           1              0                   1   \n",
              "3                           1              0                   1   \n",
              "4                           1              0                  -1   \n",
              "\n",
              "   having_At_Symbol  double_slash_redirecting  Prefix_Suffix  \\\n",
              "0               1.0                        -1             -1   \n",
              "1              -1.0                         1             -1   \n",
              "2               1.0                         1             -1   \n",
              "3              -1.0                         1             -1   \n",
              "4              -1.0                         1             -1   \n",
              "\n",
              "   having_Sub_Domain  SSLfinal_State  Domain_registeration_length  port  ...  \\\n",
              "0                 -1              -1                           -1     1  ...   \n",
              "1                  0               1                           -1     1  ...   \n",
              "2                 -1              -1                           -1     1  ...   \n",
              "3                 -1              -1                            1     1  ...   \n",
              "4                  1               1                           -1     1  ...   \n",
              "\n",
              "   SFH  Abnormal_URL  on_mouseover  age_of_domain  DNSRecord  web_traffic  \\\n",
              "0   -1            -1             1             -1         -1           -1   \n",
              "1   -1             1             1             -1         -1            0   \n",
              "2   -1            -1             1              1         -1            1   \n",
              "3   -1             1             1             -1         -1            1   \n",
              "4   -1             1            -1             -1         -1            0   \n",
              "\n",
              "   Page_Rank  Google_Index  Links_pointing_to_page  Statistical_report  \n",
              "0         -1             1                       1                  -1  \n",
              "1         -1             1                       1                   1  \n",
              "2         -1             1                       0                  -1  \n",
              "3         -1             1                      -1                   1  \n",
              "4         -1             1                       1                   1  \n",
              "\n",
              "[5 rows x 24 columns]"
            ],
            "text/html": [
              "\n",
              "  <div id=\"df-2c0b2f2d-0e40-47d7-932d-3a0d36c57ac8\">\n",
              "    <div class=\"colab-df-container\">\n",
              "      <div>\n",
              "<style scoped>\n",
              "    .dataframe tbody tr th:only-of-type {\n",
              "        vertical-align: middle;\n",
              "    }\n",
              "\n",
              "    .dataframe tbody tr th {\n",
              "        vertical-align: top;\n",
              "    }\n",
              "\n",
              "    .dataframe thead th {\n",
              "        text-align: right;\n",
              "    }\n",
              "</style>\n",
              "<table border=\"1\" class=\"dataframe\">\n",
              "  <thead>\n",
              "    <tr style=\"text-align: right;\">\n",
              "      <th></th>\n",
              "      <th>having_IPhaving_IP_Address</th>\n",
              "      <th>URLURL_Length</th>\n",
              "      <th>Shortining_Service</th>\n",
              "      <th>having_At_Symbol</th>\n",
              "      <th>double_slash_redirecting</th>\n",
              "      <th>Prefix_Suffix</th>\n",
              "      <th>having_Sub_Domain</th>\n",
              "      <th>SSLfinal_State</th>\n",
              "      <th>Domain_registeration_length</th>\n",
              "      <th>port</th>\n",
              "      <th>...</th>\n",
              "      <th>SFH</th>\n",
              "      <th>Abnormal_URL</th>\n",
              "      <th>on_mouseover</th>\n",
              "      <th>age_of_domain</th>\n",
              "      <th>DNSRecord</th>\n",
              "      <th>web_traffic</th>\n",
              "      <th>Page_Rank</th>\n",
              "      <th>Google_Index</th>\n",
              "      <th>Links_pointing_to_page</th>\n",
              "      <th>Statistical_report</th>\n",
              "    </tr>\n",
              "  </thead>\n",
              "  <tbody>\n",
              "    <tr>\n",
              "      <th>0</th>\n",
              "      <td>-1</td>\n",
              "      <td>1</td>\n",
              "      <td>1</td>\n",
              "      <td>1.0</td>\n",
              "      <td>-1</td>\n",
              "      <td>-1</td>\n",
              "      <td>-1</td>\n",
              "      <td>-1</td>\n",
              "      <td>-1</td>\n",
              "      <td>1</td>\n",
              "      <td>...</td>\n",
              "      <td>-1</td>\n",
              "      <td>-1</td>\n",
              "      <td>1</td>\n",
              "      <td>-1</td>\n",
              "      <td>-1</td>\n",
              "      <td>-1</td>\n",
              "      <td>-1</td>\n",
              "      <td>1</td>\n",
              "      <td>1</td>\n",
              "      <td>-1</td>\n",
              "    </tr>\n",
              "    <tr>\n",
              "      <th>1</th>\n",
              "      <td>1</td>\n",
              "      <td>1</td>\n",
              "      <td>1</td>\n",
              "      <td>-1.0</td>\n",
              "      <td>1</td>\n",
              "      <td>-1</td>\n",
              "      <td>0</td>\n",
              "      <td>1</td>\n",
              "      <td>-1</td>\n",
              "      <td>1</td>\n",
              "      <td>...</td>\n",
              "      <td>-1</td>\n",
              "      <td>1</td>\n",
              "      <td>1</td>\n",
              "      <td>-1</td>\n",
              "      <td>-1</td>\n",
              "      <td>0</td>\n",
              "      <td>-1</td>\n",
              "      <td>1</td>\n",
              "      <td>1</td>\n",
              "      <td>1</td>\n",
              "    </tr>\n",
              "    <tr>\n",
              "      <th>2</th>\n",
              "      <td>1</td>\n",
              "      <td>0</td>\n",
              "      <td>1</td>\n",
              "      <td>1.0</td>\n",
              "      <td>1</td>\n",
              "      <td>-1</td>\n",
              "      <td>-1</td>\n",
              "      <td>-1</td>\n",
              "      <td>-1</td>\n",
              "      <td>1</td>\n",
              "      <td>...</td>\n",
              "      <td>-1</td>\n",
              "      <td>-1</td>\n",
              "      <td>1</td>\n",
              "      <td>1</td>\n",
              "      <td>-1</td>\n",
              "      <td>1</td>\n",
              "      <td>-1</td>\n",
              "      <td>1</td>\n",
              "      <td>0</td>\n",
              "      <td>-1</td>\n",
              "    </tr>\n",
              "    <tr>\n",
              "      <th>3</th>\n",
              "      <td>1</td>\n",
              "      <td>0</td>\n",
              "      <td>1</td>\n",
              "      <td>-1.0</td>\n",
              "      <td>1</td>\n",
              "      <td>-1</td>\n",
              "      <td>-1</td>\n",
              "      <td>-1</td>\n",
              "      <td>1</td>\n",
              "      <td>1</td>\n",
              "      <td>...</td>\n",
              "      <td>-1</td>\n",
              "      <td>1</td>\n",
              "      <td>1</td>\n",
              "      <td>-1</td>\n",
              "      <td>-1</td>\n",
              "      <td>1</td>\n",
              "      <td>-1</td>\n",
              "      <td>1</td>\n",
              "      <td>-1</td>\n",
              "      <td>1</td>\n",
              "    </tr>\n",
              "    <tr>\n",
              "      <th>4</th>\n",
              "      <td>1</td>\n",
              "      <td>0</td>\n",
              "      <td>-1</td>\n",
              "      <td>-1.0</td>\n",
              "      <td>1</td>\n",
              "      <td>-1</td>\n",
              "      <td>1</td>\n",
              "      <td>1</td>\n",
              "      <td>-1</td>\n",
              "      <td>1</td>\n",
              "      <td>...</td>\n",
              "      <td>-1</td>\n",
              "      <td>1</td>\n",
              "      <td>-1</td>\n",
              "      <td>-1</td>\n",
              "      <td>-1</td>\n",
              "      <td>0</td>\n",
              "      <td>-1</td>\n",
              "      <td>1</td>\n",
              "      <td>1</td>\n",
              "      <td>1</td>\n",
              "    </tr>\n",
              "  </tbody>\n",
              "</table>\n",
              "<p>5 rows × 24 columns</p>\n",
              "</div>\n",
              "      <button class=\"colab-df-convert\" onclick=\"convertToInteractive('df-2c0b2f2d-0e40-47d7-932d-3a0d36c57ac8')\"\n",
              "              title=\"Convert this dataframe to an interactive table.\"\n",
              "              style=\"display:none;\">\n",
              "        \n",
              "  <svg xmlns=\"http://www.w3.org/2000/svg\" height=\"24px\"viewBox=\"0 0 24 24\"\n",
              "       width=\"24px\">\n",
              "    <path d=\"M0 0h24v24H0V0z\" fill=\"none\"/>\n",
              "    <path d=\"M18.56 5.44l.94 2.06.94-2.06 2.06-.94-2.06-.94-.94-2.06-.94 2.06-2.06.94zm-11 1L8.5 8.5l.94-2.06 2.06-.94-2.06-.94L8.5 2.5l-.94 2.06-2.06.94zm10 10l.94 2.06.94-2.06 2.06-.94-2.06-.94-.94-2.06-.94 2.06-2.06.94z\"/><path d=\"M17.41 7.96l-1.37-1.37c-.4-.4-.92-.59-1.43-.59-.52 0-1.04.2-1.43.59L10.3 9.45l-7.72 7.72c-.78.78-.78 2.05 0 2.83L4 21.41c.39.39.9.59 1.41.59.51 0 1.02-.2 1.41-.59l7.78-7.78 2.81-2.81c.8-.78.8-2.07 0-2.86zM5.41 20L4 18.59l7.72-7.72 1.47 1.35L5.41 20z\"/>\n",
              "  </svg>\n",
              "      </button>\n",
              "      \n",
              "  <style>\n",
              "    .colab-df-container {\n",
              "      display:flex;\n",
              "      flex-wrap:wrap;\n",
              "      gap: 12px;\n",
              "    }\n",
              "\n",
              "    .colab-df-convert {\n",
              "      background-color: #E8F0FE;\n",
              "      border: none;\n",
              "      border-radius: 50%;\n",
              "      cursor: pointer;\n",
              "      display: none;\n",
              "      fill: #1967D2;\n",
              "      height: 32px;\n",
              "      padding: 0 0 0 0;\n",
              "      width: 32px;\n",
              "    }\n",
              "\n",
              "    .colab-df-convert:hover {\n",
              "      background-color: #E2EBFA;\n",
              "      box-shadow: 0px 1px 2px rgba(60, 64, 67, 0.3), 0px 1px 3px 1px rgba(60, 64, 67, 0.15);\n",
              "      fill: #174EA6;\n",
              "    }\n",
              "\n",
              "    [theme=dark] .colab-df-convert {\n",
              "      background-color: #3B4455;\n",
              "      fill: #D2E3FC;\n",
              "    }\n",
              "\n",
              "    [theme=dark] .colab-df-convert:hover {\n",
              "      background-color: #434B5C;\n",
              "      box-shadow: 0px 1px 3px 1px rgba(0, 0, 0, 0.15);\n",
              "      filter: drop-shadow(0px 1px 2px rgba(0, 0, 0, 0.3));\n",
              "      fill: #FFFFFF;\n",
              "    }\n",
              "  </style>\n",
              "\n",
              "      <script>\n",
              "        const buttonEl =\n",
              "          document.querySelector('#df-2c0b2f2d-0e40-47d7-932d-3a0d36c57ac8 button.colab-df-convert');\n",
              "        buttonEl.style.display =\n",
              "          google.colab.kernel.accessAllowed ? 'block' : 'none';\n",
              "\n",
              "        async function convertToInteractive(key) {\n",
              "          const element = document.querySelector('#df-2c0b2f2d-0e40-47d7-932d-3a0d36c57ac8');\n",
              "          const dataTable =\n",
              "            await google.colab.kernel.invokeFunction('convertToInteractive',\n",
              "                                                     [key], {});\n",
              "          if (!dataTable) return;\n",
              "\n",
              "          const docLinkHtml = 'Like what you see? Visit the ' +\n",
              "            '<a target=\"_blank\" href=https://colab.research.google.com/notebooks/data_table.ipynb>data table notebook</a>'\n",
              "            + ' to learn more about interactive tables.';\n",
              "          element.innerHTML = '';\n",
              "          dataTable['output_type'] = 'display_data';\n",
              "          await google.colab.output.renderOutput(dataTable, element);\n",
              "          const docLink = document.createElement('div');\n",
              "          docLink.innerHTML = docLinkHtml;\n",
              "          element.appendChild(docLink);\n",
              "        }\n",
              "      </script>\n",
              "    </div>\n",
              "  </div>\n",
              "  "
            ]
          },
          "metadata": {},
          "execution_count": 26
        }
      ]
    },
    {
      "cell_type": "code",
      "metadata": {
        "colab": {
          "base_uri": "https://localhost:8080/",
          "height": 206
        },
        "id": "EZYA4g9_DLhn",
        "outputId": "64be6342-7c03-4b24-9adc-5a365491563e"
      },
      "source": [
        "Y=df['Result']\n",
        "Y=pd.DataFrame(Y)\n",
        "Y.head()"
      ],
      "execution_count": null,
      "outputs": [
        {
          "output_type": "execute_result",
          "data": {
            "text/plain": [
              "   Result\n",
              "0      -1\n",
              "1      -1\n",
              "2      -1\n",
              "3      -1\n",
              "4       1"
            ],
            "text/html": [
              "\n",
              "  <div id=\"df-d2912ebd-3b2c-4ba6-901c-2d8f9dd100bb\">\n",
              "    <div class=\"colab-df-container\">\n",
              "      <div>\n",
              "<style scoped>\n",
              "    .dataframe tbody tr th:only-of-type {\n",
              "        vertical-align: middle;\n",
              "    }\n",
              "\n",
              "    .dataframe tbody tr th {\n",
              "        vertical-align: top;\n",
              "    }\n",
              "\n",
              "    .dataframe thead th {\n",
              "        text-align: right;\n",
              "    }\n",
              "</style>\n",
              "<table border=\"1\" class=\"dataframe\">\n",
              "  <thead>\n",
              "    <tr style=\"text-align: right;\">\n",
              "      <th></th>\n",
              "      <th>Result</th>\n",
              "    </tr>\n",
              "  </thead>\n",
              "  <tbody>\n",
              "    <tr>\n",
              "      <th>0</th>\n",
              "      <td>-1</td>\n",
              "    </tr>\n",
              "    <tr>\n",
              "      <th>1</th>\n",
              "      <td>-1</td>\n",
              "    </tr>\n",
              "    <tr>\n",
              "      <th>2</th>\n",
              "      <td>-1</td>\n",
              "    </tr>\n",
              "    <tr>\n",
              "      <th>3</th>\n",
              "      <td>-1</td>\n",
              "    </tr>\n",
              "    <tr>\n",
              "      <th>4</th>\n",
              "      <td>1</td>\n",
              "    </tr>\n",
              "  </tbody>\n",
              "</table>\n",
              "</div>\n",
              "      <button class=\"colab-df-convert\" onclick=\"convertToInteractive('df-d2912ebd-3b2c-4ba6-901c-2d8f9dd100bb')\"\n",
              "              title=\"Convert this dataframe to an interactive table.\"\n",
              "              style=\"display:none;\">\n",
              "        \n",
              "  <svg xmlns=\"http://www.w3.org/2000/svg\" height=\"24px\"viewBox=\"0 0 24 24\"\n",
              "       width=\"24px\">\n",
              "    <path d=\"M0 0h24v24H0V0z\" fill=\"none\"/>\n",
              "    <path d=\"M18.56 5.44l.94 2.06.94-2.06 2.06-.94-2.06-.94-.94-2.06-.94 2.06-2.06.94zm-11 1L8.5 8.5l.94-2.06 2.06-.94-2.06-.94L8.5 2.5l-.94 2.06-2.06.94zm10 10l.94 2.06.94-2.06 2.06-.94-2.06-.94-.94-2.06-.94 2.06-2.06.94z\"/><path d=\"M17.41 7.96l-1.37-1.37c-.4-.4-.92-.59-1.43-.59-.52 0-1.04.2-1.43.59L10.3 9.45l-7.72 7.72c-.78.78-.78 2.05 0 2.83L4 21.41c.39.39.9.59 1.41.59.51 0 1.02-.2 1.41-.59l7.78-7.78 2.81-2.81c.8-.78.8-2.07 0-2.86zM5.41 20L4 18.59l7.72-7.72 1.47 1.35L5.41 20z\"/>\n",
              "  </svg>\n",
              "      </button>\n",
              "      \n",
              "  <style>\n",
              "    .colab-df-container {\n",
              "      display:flex;\n",
              "      flex-wrap:wrap;\n",
              "      gap: 12px;\n",
              "    }\n",
              "\n",
              "    .colab-df-convert {\n",
              "      background-color: #E8F0FE;\n",
              "      border: none;\n",
              "      border-radius: 50%;\n",
              "      cursor: pointer;\n",
              "      display: none;\n",
              "      fill: #1967D2;\n",
              "      height: 32px;\n",
              "      padding: 0 0 0 0;\n",
              "      width: 32px;\n",
              "    }\n",
              "\n",
              "    .colab-df-convert:hover {\n",
              "      background-color: #E2EBFA;\n",
              "      box-shadow: 0px 1px 2px rgba(60, 64, 67, 0.3), 0px 1px 3px 1px rgba(60, 64, 67, 0.15);\n",
              "      fill: #174EA6;\n",
              "    }\n",
              "\n",
              "    [theme=dark] .colab-df-convert {\n",
              "      background-color: #3B4455;\n",
              "      fill: #D2E3FC;\n",
              "    }\n",
              "\n",
              "    [theme=dark] .colab-df-convert:hover {\n",
              "      background-color: #434B5C;\n",
              "      box-shadow: 0px 1px 3px 1px rgba(0, 0, 0, 0.15);\n",
              "      filter: drop-shadow(0px 1px 2px rgba(0, 0, 0, 0.3));\n",
              "      fill: #FFFFFF;\n",
              "    }\n",
              "  </style>\n",
              "\n",
              "      <script>\n",
              "        const buttonEl =\n",
              "          document.querySelector('#df-d2912ebd-3b2c-4ba6-901c-2d8f9dd100bb button.colab-df-convert');\n",
              "        buttonEl.style.display =\n",
              "          google.colab.kernel.accessAllowed ? 'block' : 'none';\n",
              "\n",
              "        async function convertToInteractive(key) {\n",
              "          const element = document.querySelector('#df-d2912ebd-3b2c-4ba6-901c-2d8f9dd100bb');\n",
              "          const dataTable =\n",
              "            await google.colab.kernel.invokeFunction('convertToInteractive',\n",
              "                                                     [key], {});\n",
              "          if (!dataTable) return;\n",
              "\n",
              "          const docLinkHtml = 'Like what you see? Visit the ' +\n",
              "            '<a target=\"_blank\" href=https://colab.research.google.com/notebooks/data_table.ipynb>data table notebook</a>'\n",
              "            + ' to learn more about interactive tables.';\n",
              "          element.innerHTML = '';\n",
              "          dataTable['output_type'] = 'display_data';\n",
              "          await google.colab.output.renderOutput(dataTable, element);\n",
              "          const docLink = document.createElement('div');\n",
              "          docLink.innerHTML = docLinkHtml;\n",
              "          element.appendChild(docLink);\n",
              "        }\n",
              "      </script>\n",
              "    </div>\n",
              "  </div>\n",
              "  "
            ]
          },
          "metadata": {},
          "execution_count": 27
        }
      ]
    },
    {
      "cell_type": "code",
      "metadata": {
        "id": "-S_NPHSd0-kX"
      },
      "source": [
        "train_X,test_X,train_Y,test_Y=train_test_split(X,Y,test_size=0.40,random_state=10)"
      ],
      "execution_count": null,
      "outputs": []
    },
    {
      "cell_type": "code",
      "metadata": {
        "colab": {
          "base_uri": "https://localhost:8080/"
        },
        "id": "Ajr1EBpu1Ugu",
        "outputId": "09e72110-8329-4415-b9ba-23dd2ad8d927"
      },
      "source": [
        "print(\"Training set has {} samples.\".format(train_X.shape[0]))\n",
        "print(\"Testing set has {} samples.\".format(test_X.shape[0]))"
      ],
      "execution_count": null,
      "outputs": [
        {
          "output_type": "stream",
          "name": "stdout",
          "text": [
            "Training set has 6633 samples.\n",
            "Testing set has 4422 samples.\n"
          ]
        }
      ]
    },
    {
      "cell_type": "markdown",
      "metadata": {
        "id": "-0lKSDTVH5Jx"
      },
      "source": [
        "## Lets apply Logistic Regression and check its accuracy"
      ]
    },
    {
      "cell_type": "code",
      "metadata": {
        "id": "TIJFaBB_3E8Q"
      },
      "source": [
        "from sklearn.linear_model import LogisticRegression\n",
        "from sklearn.metrics import accuracy_score,confusion_matrix,classification_report\n"
      ],
      "execution_count": null,
      "outputs": []
    },
    {
      "cell_type": "markdown",
      "metadata": {
        "id": "xKBsxISfbcka"
      },
      "source": [
        "#### Model Training"
      ]
    },
    {
      "cell_type": "code",
      "metadata": {
        "colab": {
          "base_uri": "https://localhost:8080/"
        },
        "id": "8gyAPocd38o8",
        "outputId": "a9ff7a5e-e337-449e-de8e-e1a710503bff"
      },
      "source": [
        "logreg=LogisticRegression()\n",
        "model_1=logreg.fit(train_X,train_Y)"
      ],
      "execution_count": null,
      "outputs": [
        {
          "output_type": "stream",
          "name": "stderr",
          "text": [
            "/usr/local/lib/python3.7/dist-packages/sklearn/utils/validation.py:993: DataConversionWarning: A column-vector y was passed when a 1d array was expected. Please change the shape of y to (n_samples, ), for example using ravel().\n",
            "  y = column_or_1d(y, warn=True)\n"
          ]
        }
      ]
    },
    {
      "cell_type": "markdown",
      "metadata": {
        "id": "nsNzwvyUbiQc"
      },
      "source": [
        "####Model Testing"
      ]
    },
    {
      "cell_type": "code",
      "metadata": {
        "id": "ENsxfeK03-Bb"
      },
      "source": [
        "logreg_predict= model_1.predict(test_X)\n"
      ],
      "execution_count": null,
      "outputs": []
    },
    {
      "cell_type": "code",
      "metadata": {
        "colab": {
          "base_uri": "https://localhost:8080/"
        },
        "id": "ev7adFqr4ERu",
        "outputId": "b6678bbe-c380-480d-91fa-4f633b71360d"
      },
      "source": [
        "print('The accurcy of Logistic Regression Model is : ', 100.0 * accuracy_score(logreg_predict,test_Y))"
      ],
      "execution_count": null,
      "outputs": [
        {
          "output_type": "stream",
          "name": "stdout",
          "text": [
            "The accurcy of Logistic Regression Model is :  92.7860696517413\n"
          ]
        }
      ]
    },
    {
      "cell_type": "code",
      "metadata": {
        "colab": {
          "base_uri": "https://localhost:8080/"
        },
        "id": "f45eo-u65mzr",
        "outputId": "e44349d5-bcf7-457f-8fbb-8013a18a7b07"
      },
      "source": [
        "print(classification_report(logreg_predict,test_Y))\n"
      ],
      "execution_count": null,
      "outputs": [
        {
          "output_type": "stream",
          "name": "stdout",
          "text": [
            "              precision    recall  f1-score   support\n",
            "\n",
            "          -1       0.90      0.93      0.92      1861\n",
            "           1       0.95      0.93      0.94      2561\n",
            "\n",
            "    accuracy                           0.93      4422\n",
            "   macro avg       0.92      0.93      0.93      4422\n",
            "weighted avg       0.93      0.93      0.93      4422\n",
            "\n"
          ]
        }
      ]
    },
    {
      "cell_type": "code",
      "metadata": {
        "id": "GaM4XsXc5rib"
      },
      "source": [
        "def plot_confusion_matrix(test_Y, predict_y):\n",
        " C = confusion_matrix(test_Y, predict_y)\n",
        " A =(((C.T)/(C.sum(axis=1))).T)\n",
        " B =(C/C.sum(axis=0))\n",
        " plt.figure(figsize=(20,4))\n",
        " labels = [1,2]\n",
        " cmap=sns.light_palette(\"blue\")\n",
        " plt.subplot(1, 3, 1)\n",
        " sns.heatmap(C, annot=True, cmap=cmap, fmt=\".3f\", xticklabels=labels, yticklabels=labels)\n",
        " plt.xlabel('Predicted Class')\n",
        " plt.ylabel('Original Class')\n",
        " plt.title(\"Confusion matrix\")\n",
        " plt.subplot(1, 3, 2)\n",
        " sns.heatmap(B, annot=True, cmap=cmap, fmt=\".3f\", xticklabels=labels, yticklabels=labels)\n",
        " plt.xlabel('Predicted Class')\n",
        " plt.ylabel('Original Class')\n",
        " plt.title(\"Precision matrix\")\n",
        " plt.subplot(1, 3, 3)\n",
        " sns.heatmap(A, annot=True, cmap=cmap, fmt=\".3f\", xticklabels=labels, yticklabels=labels)\n",
        " plt.xlabel('Predicted Class')\n",
        " plt.ylabel('Original Class')\n",
        " plt.title(\"Recall matrix\")\n",
        " plt.show()"
      ],
      "execution_count": null,
      "outputs": []
    },
    {
      "cell_type": "code",
      "metadata": {
        "colab": {
          "base_uri": "https://localhost:8080/",
          "height": 295
        },
        "id": "c6Ql3BDw7Oe4",
        "outputId": "9a481a8f-749b-4c8f-f898-893ecf99303b"
      },
      "source": [
        "plot_confusion_matrix(test_Y, logreg_predict)\n"
      ],
      "execution_count": null,
      "outputs": [
        {
          "output_type": "display_data",
          "data": {
            "text/plain": [
              "<Figure size 1440x288 with 6 Axes>"
            ],
            "image/png": "[encoded data removed]"
          },
          "metadata": {}
        }
      ]
    },
    {
      "cell_type": "code",
      "metadata": {
        "colab": {
          "base_uri": "https://localhost:8080/",
          "height": 351
        },
        "id": "hrXZJn3UZZQu",
        "outputId": "66e9ab96-9c00-48bb-92fb-93fdb69bf130"
      },
      "source": [
        "from sklearn.metrics import precision_recall_curve\n",
        "from sklearn.metrics import plot_precision_recall_curve\n",
        "from sklearn.metrics import roc_curve\n",
        "from sklearn.metrics import plot_roc_curve\n",
        "\n",
        "plot_roc_curve(model_1,test_X, test_Y)"
      ],
      "execution_count": null,
      "outputs": [
        {
          "output_type": "stream",
          "name": "stderr",
          "text": [
            "/usr/local/lib/python3.7/dist-packages/sklearn/utils/deprecation.py:87: FutureWarning: Function plot_roc_curve is deprecated; Function :func:`plot_roc_curve` is deprecated in 1.0 and will be removed in 1.2. Use one of the class methods: :meth:`sklearn.metric.RocCurveDisplay.from_predictions` or :meth:`sklearn.metric.RocCurveDisplay.from_estimator`.\n",
            "  warnings.warn(msg, category=FutureWarning)\n"
          ]
        },
        {
          "output_type": "execute_result",
          "data": {
            "text/plain": [
              "<sklearn.metrics._plot.roc_curve.RocCurveDisplay at 0x7f993451dfd0>"
            ]
          },
          "metadata": {},
          "execution_count": 37
        },
        {
          "output_type": "display_data",
          "data": {
            "text/plain": [
              "<Figure size 432x288 with 1 Axes>"
            ],
            "image/png": "[encoded data removed]"
          },
          "metadata": {}
        }
      ]
    },
    {
      "cell_type": "markdown",
      "metadata": {
        "id": "7nAIzStU7ZKo"
      },
      "source": [
        "## Lets apply K-Nearest Neighbors Classifier and check its accuracy\n",
        "\n"
      ]
    },
    {
      "cell_type": "code",
      "metadata": {
        "id": "czFKtyPV7eHB"
      },
      "source": [
        "from sklearn.neighbors import KNeighborsClassifier\n"
      ],
      "execution_count": null,
      "outputs": []
    },
    {
      "cell_type": "code",
      "metadata": {
        "id": "Q6ENrQZ8bvE1"
      },
      "source": [
        "error = []\n",
        "for i in range(1, 30):\n",
        "  knn = KNeighborsClassifier(n_neighbors=i)\n",
        "  knn.fit(train_X, train_Y.values.ravel())\n",
        "  pred_i = knn.predict(test_X)\n",
        "  error.append(np.mean(pred_i != test_Y.values.ravel()))"
      ],
      "execution_count": null,
      "outputs": []
    },
    {
      "cell_type": "code",
      "metadata": {
        "colab": {
          "base_uri": "https://localhost:8080/",
          "height": 421
        },
        "id": "yGA_uqwAb4zr",
        "outputId": "4297f884-db9c-4b0e-b037-69d2a6217d14"
      },
      "source": [
        "plt.figure(figsize=(12,6))\n",
        "plt.plot(range(1,30), error, color='red', linestyle='dashed', marker='o', markerfacecolor='green', markersize=10)\n",
        "plt.title('Error Rate for K Values')\n",
        "plt.xlabel('K Values')\n",
        "plt.ylabel('Error Rate')"
      ],
      "execution_count": null,
      "outputs": [
        {
          "output_type": "execute_result",
          "data": {
            "text/plain": [
              "Text(0, 0.5, 'Error Rate')"
            ]
          },
          "metadata": {},
          "execution_count": 40
        },
        {
          "output_type": "display_data",
          "data": {
            "text/plain": [
              "<Figure size 864x432 with 1 Axes>"
            ],
            "image/png": "[encoded data removed]"
          },
          "metadata": {}
        }
      ]
    },
    {
      "cell_type": "markdown",
      "metadata": {
        "id": "tXtOTUB0cOvX"
      },
      "source": [
        "#### Model Training\n",
        "\n",
        "##### KNN Classifier for K = 1"
      ]
    },
    {
      "cell_type": "code",
      "metadata": {
        "colab": {
          "base_uri": "https://localhost:8080/"
        },
        "id": "Zn5pfwwU7gdk",
        "outputId": "8953d49c-4bf1-40db-c8d1-64cf6c34cc90"
      },
      "source": [
        "knn=KNeighborsClassifier(n_neighbors=1)\n",
        "model_2= knn.fit(train_X,train_Y)"
      ],
      "execution_count": null,
      "outputs": [
        {
          "output_type": "stream",
          "name": "stderr",
          "text": [
            "/usr/local/lib/python3.7/dist-packages/sklearn/neighbors/_classification.py:198: DataConversionWarning: A column-vector y was passed when a 1d array was expected. Please change the shape of y to (n_samples,), for example using ravel().\n",
            "  return self._fit(X, y)\n"
          ]
        }
      ]
    },
    {
      "cell_type": "code",
      "metadata": {
        "id": "p3wR-EYM7mi5"
      },
      "source": [
        "knn_predict=model_2.predict(test_X)"
      ],
      "execution_count": null,
      "outputs": []
    },
    {
      "cell_type": "code",
      "metadata": {
        "colab": {
          "base_uri": "https://localhost:8080/"
        },
        "id": "04EXOA4e7pYA",
        "outputId": "f297a5f1-8d10-4681-db77-6bfb8b8fb620"
      },
      "source": [
        "print('The accuracy of KNN Model is: ', 100.0 * accuracy_score(knn_predict,test_Y))"
      ],
      "execution_count": null,
      "outputs": [
        {
          "output_type": "stream",
          "name": "stdout",
          "text": [
            "The accuracy of KNN Model is:  93.3288104929896\n"
          ]
        }
      ]
    },
    {
      "cell_type": "code",
      "metadata": {
        "colab": {
          "base_uri": "https://localhost:8080/"
        },
        "id": "j8S4D8wH7u42",
        "outputId": "e68d380e-9b5a-448e-b9e1-7ae4857853f5"
      },
      "source": [
        "print(classification_report(test_Y,knn_predict))"
      ],
      "execution_count": null,
      "outputs": [
        {
          "output_type": "stream",
          "name": "stdout",
          "text": [
            "              precision    recall  f1-score   support\n",
            "\n",
            "          -1       0.92      0.93      0.92      1922\n",
            "           1       0.94      0.94      0.94      2500\n",
            "\n",
            "    accuracy                           0.93      4422\n",
            "   macro avg       0.93      0.93      0.93      4422\n",
            "weighted avg       0.93      0.93      0.93      4422\n",
            "\n"
          ]
        }
      ]
    },
    {
      "cell_type": "code",
      "metadata": {
        "colab": {
          "base_uri": "https://localhost:8080/",
          "height": 295
        },
        "id": "61e8xm1m7yKD",
        "outputId": "fd8cf383-28e3-4f1a-8200-6c142aba3180"
      },
      "source": [
        "plot_confusion_matrix(test_Y, knn_predict)"
      ],
      "execution_count": null,
      "outputs": [
        {
          "output_type": "display_data",
          "data": {
            "text/plain": [
              "<Figure size 1440x288 with 6 Axes>"
            ],
            "image/png": "[encoded data removed]"
          },
          "metadata": {}
        }
      ]
    },
    {
      "cell_type": "code",
      "metadata": {
        "colab": {
          "base_uri": "https://localhost:8080/",
          "height": 351
        },
        "id": "0xB8AP59cuqE",
        "outputId": "4318b4ac-5dc4-4f19-a7e7-7de20a8734dc"
      },
      "source": [
        "plot_roc_curve(model_2,test_X, test_Y)"
      ],
      "execution_count": null,
      "outputs": [
        {
          "output_type": "stream",
          "name": "stderr",
          "text": [
            "/usr/local/lib/python3.7/dist-packages/sklearn/utils/deprecation.py:87: FutureWarning: Function plot_roc_curve is deprecated; Function :func:`plot_roc_curve` is deprecated in 1.0 and will be removed in 1.2. Use one of the class methods: :meth:`sklearn.metric.RocCurveDisplay.from_predictions` or :meth:`sklearn.metric.RocCurveDisplay.from_estimator`.\n",
            "  warnings.warn(msg, category=FutureWarning)\n"
          ]
        },
        {
          "output_type": "execute_result",
          "data": {
            "text/plain": [
              "<sklearn.metrics._plot.roc_curve.RocCurveDisplay at 0x7f993413c590>"
            ]
          },
          "metadata": {},
          "execution_count": 46
        },
        {
          "output_type": "display_data",
          "data": {
            "text/plain": [
              "<Figure size 432x288 with 1 Axes>"
            ],
            "image/png": "[encoded data removed]"
          },
          "metadata": {}
        }
      ]
    },
    {
      "cell_type": "markdown",
      "metadata": {
        "id": "Waz8HUPN76NP"
      },
      "source": [
        "## Lets apply Decision Tree Classifier and check its classifier\n",
        "\n"
      ]
    },
    {
      "cell_type": "code",
      "metadata": {
        "id": "dxZAuFHf71U5"
      },
      "source": [
        "from sklearn.tree import DecisionTreeClassifier"
      ],
      "execution_count": null,
      "outputs": []
    },
    {
      "cell_type": "code",
      "metadata": {
        "id": "jRzLBvVd8BDQ"
      },
      "source": [
        "dtree=DecisionTreeClassifier()\n",
        "model_3=dtree.fit(train_X,train_Y)"
      ],
      "execution_count": null,
      "outputs": []
    },
    {
      "cell_type": "code",
      "metadata": {
        "id": "jYR_Qp9t8DjM"
      },
      "source": [
        "dtree_predict=model_3.predict(test_X)"
      ],
      "execution_count": null,
      "outputs": []
    },
    {
      "cell_type": "code",
      "metadata": {
        "colab": {
          "base_uri": "https://localhost:8080/"
        },
        "id": "7vcEtTOG8Fq8",
        "outputId": "c2f2ef50-1245-4e87-869a-a69acd19e219"
      },
      "source": [
        "print('The accuracy of Decision Tree Classifier is: ', 100.0 * accuracy_score(dtree_predict,test_Y))"
      ],
      "execution_count": null,
      "outputs": [
        {
          "output_type": "stream",
          "name": "stdout",
          "text": [
            "The accuracy of Decision Tree Classifier is:  95.25101763907735\n"
          ]
        }
      ]
    },
    {
      "cell_type": "code",
      "metadata": {
        "colab": {
          "base_uri": "https://localhost:8080/"
        },
        "id": "QSwnPu3s8HrE",
        "outputId": "7954481a-6232-46be-f55c-241f6416bf3d"
      },
      "source": [
        "print(classification_report(dtree_predict,test_Y))"
      ],
      "execution_count": null,
      "outputs": [
        {
          "output_type": "stream",
          "name": "stdout",
          "text": [
            "              precision    recall  f1-score   support\n",
            "\n",
            "          -1       0.95      0.94      0.95      1928\n",
            "           1       0.96      0.96      0.96      2494\n",
            "\n",
            "    accuracy                           0.95      4422\n",
            "   macro avg       0.95      0.95      0.95      4422\n",
            "weighted avg       0.95      0.95      0.95      4422\n",
            "\n"
          ]
        }
      ]
    },
    {
      "cell_type": "code",
      "metadata": {
        "colab": {
          "base_uri": "https://localhost:8080/",
          "height": 295
        },
        "id": "DHLEMA-N8JeT",
        "outputId": "dba196bd-29f9-4ae3-fa35-66851292de44"
      },
      "source": [
        "plot_confusion_matrix(test_Y, dtree_predict)"
      ],
      "execution_count": null,
      "outputs": [
        {
          "output_type": "display_data",
          "data": {
            "text/plain": [
              "<Figure size 1440x288 with 6 Axes>"
            ],
            "image/png": "[encoded data removed]"
          },
          "metadata": {}
        }
      ]
    },
    {
      "cell_type": "code",
      "metadata": {
        "colab": {
          "base_uri": "https://localhost:8080/",
          "height": 351
        },
        "id": "MxyxZ8W2e2ob",
        "outputId": "fdd131f0-af16-4538-8bf3-d057daa48471"
      },
      "source": [
        "plot_roc_curve(model_3,test_X, test_Y)"
      ],
      "execution_count": null,
      "outputs": [
        {
          "output_type": "stream",
          "name": "stderr",
          "text": [
            "/usr/local/lib/python3.7/dist-packages/sklearn/utils/deprecation.py:87: FutureWarning: Function plot_roc_curve is deprecated; Function :func:`plot_roc_curve` is deprecated in 1.0 and will be removed in 1.2. Use one of the class methods: :meth:`sklearn.metric.RocCurveDisplay.from_predictions` or :meth:`sklearn.metric.RocCurveDisplay.from_estimator`.\n",
            "  warnings.warn(msg, category=FutureWarning)\n"
          ]
        },
        {
          "output_type": "execute_result",
          "data": {
            "text/plain": [
              "<sklearn.metrics._plot.roc_curve.RocCurveDisplay at 0x7f9933ffa1d0>"
            ]
          },
          "metadata": {},
          "execution_count": 53
        },
        {
          "output_type": "display_data",
          "data": {
            "text/plain": [
              "<Figure size 432x288 with 1 Axes>"
            ],
            "image/png": "[encoded data removed]"
          },
          "metadata": {}
        }
      ]
    },
    {
      "cell_type": "markdown",
      "metadata": {
        "id": "wWMC5huf8XBW"
      },
      "source": [
        "## Lets apply Random Forest Classifier and check its accuracy\n",
        "\n"
      ]
    },
    {
      "cell_type": "code",
      "metadata": {
        "id": "aBlhi5jZ8MdA"
      },
      "source": [
        "from sklearn.ensemble import RandomForestClassifier\n"
      ],
      "execution_count": null,
      "outputs": []
    },
    {
      "cell_type": "code",
      "metadata": {
        "colab": {
          "base_uri": "https://localhost:8080/"
        },
        "id": "PKVJBHCB8dZE",
        "outputId": "b7af0f6b-a1ae-4717-c28c-2a9cee105050"
      },
      "source": [
        "rfc=RandomForestClassifier()\n",
        "model_4=rfc.fit(train_X,train_Y)"
      ],
      "execution_count": null,
      "outputs": [
        {
          "output_type": "stream",
          "name": "stderr",
          "text": [
            "/usr/local/lib/python3.7/dist-packages/ipykernel_launcher.py:2: DataConversionWarning: A column-vector y was passed when a 1d array was expected. Please change the shape of y to (n_samples,), for example using ravel().\n",
            "  \n"
          ]
        }
      ]
    },
    {
      "cell_type": "code",
      "metadata": {
        "id": "8Ku5SqLp8foP"
      },
      "source": [
        "rfc_predict=model_4.predict(test_X)\n"
      ],
      "execution_count": null,
      "outputs": []
    },
    {
      "cell_type": "code",
      "metadata": {
        "colab": {
          "base_uri": "https://localhost:8080/"
        },
        "id": "ugfhO-k48hw0",
        "outputId": "9b78b6ab-85f4-4764-ef77-8f727ee641e0"
      },
      "source": [
        "print('The accuracy of Random Forest Classifier is: ' , 100.0 * accuracy_score(rfc_predict,test_Y))\n"
      ],
      "execution_count": null,
      "outputs": [
        {
          "output_type": "stream",
          "name": "stdout",
          "text": [
            "The accuracy of Random Forest Classifier is:  96.63048394391677\n"
          ]
        }
      ]
    },
    {
      "cell_type": "code",
      "metadata": {
        "colab": {
          "base_uri": "https://localhost:8080/"
        },
        "id": "aTVaREQ18jMX",
        "outputId": "197d98ee-5669-409c-d6b8-c5d10435c73f"
      },
      "source": [
        "print(classification_report(rfc_predict,test_Y))\n"
      ],
      "execution_count": null,
      "outputs": [
        {
          "output_type": "stream",
          "name": "stdout",
          "text": [
            "              precision    recall  f1-score   support\n",
            "\n",
            "          -1       0.96      0.97      0.96      1903\n",
            "           1       0.97      0.97      0.97      2519\n",
            "\n",
            "    accuracy                           0.97      4422\n",
            "   macro avg       0.97      0.97      0.97      4422\n",
            "weighted avg       0.97      0.97      0.97      4422\n",
            "\n"
          ]
        }
      ]
    },
    {
      "cell_type": "code",
      "metadata": {
        "colab": {
          "base_uri": "https://localhost:8080/",
          "height": 295
        },
        "id": "-VObYuGK8kub",
        "outputId": "27ba3a65-d86e-4559-abb4-e96c703fc510"
      },
      "source": [
        "plot_confusion_matrix(test_Y, rfc_predict)\n"
      ],
      "execution_count": null,
      "outputs": [
        {
          "output_type": "display_data",
          "data": {
            "text/plain": [
              "<Figure size 1440x288 with 6 Axes>"
            ],
            "image/png": "[encoded data removed]"
          },
          "metadata": {}
        }
      ]
    },
    {
      "cell_type": "code",
      "metadata": {
        "colab": {
          "base_uri": "https://localhost:8080/",
          "height": 351
        },
        "id": "t5WtoQTNfIKD",
        "outputId": "8b070dab-0039-4ac3-b6ab-611eb737aaa2"
      },
      "source": [
        "plot_roc_curve(model_4,test_X, test_Y)"
      ],
      "execution_count": null,
      "outputs": [
        {
          "output_type": "stream",
          "name": "stderr",
          "text": [
            "/usr/local/lib/python3.7/dist-packages/sklearn/utils/deprecation.py:87: FutureWarning: Function plot_roc_curve is deprecated; Function :func:`plot_roc_curve` is deprecated in 1.0 and will be removed in 1.2. Use one of the class methods: :meth:`sklearn.metric.RocCurveDisplay.from_predictions` or :meth:`sklearn.metric.RocCurveDisplay.from_estimator`.\n",
            "  warnings.warn(msg, category=FutureWarning)\n"
          ]
        },
        {
          "output_type": "execute_result",
          "data": {
            "text/plain": [
              "<sklearn.metrics._plot.roc_curve.RocCurveDisplay at 0x7f9933981950>"
            ]
          },
          "metadata": {},
          "execution_count": 60
        },
        {
          "output_type": "display_data",
          "data": {
            "text/plain": [
              "<Figure size 432x288 with 1 Axes>"
            ],
            "image/png": "[encoded data removed]"
          },
          "metadata": {}
        }
      ]
    },
    {
      "cell_type": "code",
      "metadata": {
        "colab": {
          "base_uri": "https://localhost:8080/"
        },
        "id": "fyP4Tqga92d3",
        "outputId": "2aec72fc-744a-4735-829f-1bb887b7899c"
      },
      "source": [
        "print('Logistic Regression Accuracy:',100 * accuracy_score(logreg_predict,test_Y))\n",
        "print('K-Nearest Neighbour Accuracy:',100* accuracy_score(knn_predict,test_Y))\n",
        "print('Decision Tree Classifier Accuracy:',100* accuracy_score(dtree_predict,test_Y))\n",
        "print('Random Forest Classifier Accuracy:',100*accuracy_score(rfc_predict,test_Y))"
      ],
      "execution_count": null,
      "outputs": [
        {
          "output_type": "stream",
          "name": "stdout",
          "text": [
            "Logistic Regression Accuracy: 92.7860696517413\n",
            "K-Nearest Neighbour Accuracy: 93.3288104929896\n",
            "Decision Tree Classifier Accuracy: 95.25101763907735\n",
            "Random Forest Classifier Accuracy: 96.63048394391677\n"
          ]
        }
      ]
    },
    {
      "cell_type": "markdown",
      "metadata": {
        "id": "DlTClLqhsNyH"
      },
      "source": [
        "**From all the models we developed , Random Forest accuracy has highest accuracy and followed by Decision Tree**"
      ]
    },
    {
      "cell_type": "code",
      "metadata": {
        "id": "6RyUt_3c_p3g",
        "colab": {
          "base_uri": "https://localhost:8080/",
          "height": 312
        },
        "outputId": "41646174-0d75-41fb-be4d-de2fe8ecffa6"
      },
      "source": [
        "objects = ('Logistic Regression', 'KNN Classifier', 'Decision Tree Classifier', 'Random Forest Classifier')\n",
        "y_pos = np.arange(len(objects))\n",
        "performance = [92.7860696517413, 93.08005427408412, 95.52238805970149, 96.85662596110357]\n",
        "plt.barh(y_pos, performance, align='center', alpha=1.0)\n",
        "plt.yticks(y_pos, objects)\n",
        "plt.xlabel('Accuracy')\n",
        "plt.xlabel('Model')\n",
        "plt.title('Accuracy per Model')\n",
        "\n",
        "plt.show()\n",
        "plt.savefig('accuracy_per_model.png')"
      ],
      "execution_count": null,
      "outputs": [
        {
          "output_type": "display_data",
          "data": {
            "text/plain": [
              "<Figure size 432x288 with 1 Axes>"
            ],
            "image/png": "[encoded data removed]"
          },
          "metadata": {}
        },
        {
          "output_type": "display_data",
          "data": {
            "text/plain": [
              "<Figure size 432x288 with 0 Axes>"
            ]
          },
          "metadata": {}
        }
      ]
    },
    {
      "cell_type": "code",
      "source": [
        ""
      ],
      "metadata": {
        "id": "do-F5HYNtVkm"
      },
      "execution_count": null,
      "outputs": []
    }
  ]
}